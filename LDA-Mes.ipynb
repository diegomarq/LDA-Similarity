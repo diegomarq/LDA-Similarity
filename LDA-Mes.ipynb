{
 "cells": [
  {
   "cell_type": "code",
   "execution_count": 2,
   "metadata": {},
   "outputs": [],
   "source": [
    "import findspark\n",
    "findspark.init('/home/diegomarques/spark-2.3.0-bin-hadoop2.7')\n",
    "\n",
    "from os import listdir\n",
    "from os.path import isfile, join"
   ]
  },
  {
   "cell_type": "code",
   "execution_count": 3,
   "metadata": {},
   "outputs": [],
   "source": [
    "from pyspark.sql.types import *"
   ]
  },
  {
   "cell_type": "code",
   "execution_count": 4,
   "metadata": {},
   "outputs": [],
   "source": [
    "import numpy as np\n",
    "import unicodedata"
   ]
  },
  {
   "cell_type": "code",
   "execution_count": 5,
   "metadata": {},
   "outputs": [],
   "source": [
    "from pyspark.sql.functions import * "
   ]
  },
  {
   "cell_type": "code",
   "execution_count": 6,
   "metadata": {},
   "outputs": [],
   "source": [
    "from __future__ import print_function"
   ]
  },
  {
   "cell_type": "code",
   "execution_count": 7,
   "metadata": {},
   "outputs": [],
   "source": [
    "path = '/home/diegomarques/Documents/Mestrado/Data/mes'\n",
    "input_files = [f for f in listdir(path) if isfile(join(path, f))]"
   ]
  },
  {
   "cell_type": "code",
   "execution_count": 8,
   "metadata": {},
   "outputs": [],
   "source": [
    "from pyspark.context import SparkContext\n",
    "from pyspark.sql.session import SparkSession\n",
    "sc = SparkContext('local', 'LDA Mes')\n",
    "spark = SparkSession(sc)"
   ]
  },
  {
   "cell_type": "code",
   "execution_count": 9,
   "metadata": {},
   "outputs": [],
   "source": [
    "data = spark.read.format('com.databricks.spark.csv').options(header='true', inferschema='true', delimiter=';').load(path)"
   ]
  },
  {
   "cell_type": "code",
   "execution_count": 18,
   "metadata": {},
   "outputs": [
    {
     "name": "stdout",
     "output_type": "stream",
     "text": [
      "root\n",
      " |-- CodNot: integer (nullable = true)\n",
      " |-- ComNot: string (nullable = true)\n",
      " |-- edtNome: string (nullable = true)\n",
      "\n"
     ]
    }
   ],
   "source": [
    "data.printSchema()"
   ]
  },
  {
   "cell_type": "code",
   "execution_count": null,
   "metadata": {},
   "outputs": [],
   "source": [
    "data.count()"
   ]
  },
  {
   "cell_type": "code",
   "execution_count": null,
   "metadata": {
    "scrolled": true
   },
   "outputs": [],
   "source": [
    "data.head(1)"
   ]
  },
  {
   "cell_type": "code",
   "execution_count": 11,
   "metadata": {},
   "outputs": [],
   "source": [
    "data = data.sample(False, 0.10, 1234)"
   ]
  },
  {
   "cell_type": "code",
   "execution_count": 12,
   "metadata": {},
   "outputs": [
    {
     "data": {
      "text/plain": [
       "60886"
      ]
     },
     "execution_count": 12,
     "metadata": {},
     "output_type": "execute_result"
    }
   ],
   "source": [
    "data.count()"
   ]
  },
  {
   "cell_type": "code",
   "execution_count": null,
   "metadata": {},
   "outputs": [],
   "source": [
    "# data = data.drop('edtNome')\n",
    "# data.printSchema()"
   ]
  },
  {
   "cell_type": "code",
   "execution_count": 13,
   "metadata": {},
   "outputs": [],
   "source": [
    "data = data.na.drop(subset=['CodNot', 'ComNot', 'edtNome'])"
   ]
  },
  {
   "cell_type": "code",
   "execution_count": 14,
   "metadata": {},
   "outputs": [],
   "source": [
    "data = data.withColumn('ComNot', lower(data.ComNot))\n",
    "data = data.withColumn(\"ComNot\", trim(data.ComNot))\n",
    "data = data.withColumn(\"edtNome\", trim(data.edtNome))\n",
    "data = data.withColumn('ComNot', regexp_replace('ComNot', '<.*?>', ''))\n",
    "data = data.withColumn('ComNot', regexp_replace('ComNot','\\s\\s', ''))"
   ]
  },
  {
   "cell_type": "code",
   "execution_count": 15,
   "metadata": {},
   "outputs": [],
   "source": [
    "def remove_accents_(inputStr):\n",
    "    # first, normalize strings:\n",
    "    nfkdStr = unicodedata.normalize('NFKD', inputStr)\n",
    "    # Keep chars that has no other char combined (i.e. accents chars)\n",
    "    withOutAccents = u\"\".join([c for c in nfkdStr if not unicodedata.combining(c)])\n",
    "    return withOutAccents\n",
    "\n",
    "remove_accents = udf(lambda c: remove_accents_(c) if c != None else c, StringType())"
   ]
  },
  {
   "cell_type": "code",
   "execution_count": 16,
   "metadata": {},
   "outputs": [],
   "source": [
    "data = data.withColumn('ComNot', remove_accents(data.ComNot))\n",
    "data = data.withColumn('ComNot', regexp_replace('ComNot','[^\\sça-zA-Z|^-|^_]', ''))\n",
    "data = data.dropDuplicates(subset=['ComNot'])"
   ]
  },
  {
   "cell_type": "code",
   "execution_count": 14,
   "metadata": {
    "scrolled": true
   },
   "outputs": [
    {
     "data": {
      "text/plain": [
       "[Row(CodNot=49204549, ComNot='    e  de maio de  | sexta e sabado h e domingo h em pleno tempo de homenagens a tantos icones da historia artisticocultural de toda ordem surgiu a ideia de se falar sobre um grande heroi francisco de assis tudo com muito humor como e caracteristico na trajetoria de sucesso  de carlos nunes nos palcos mineiros isso alem da riqueza historica e uma boa dose de poesia ele divide o palco com o ator andre mauricio com direcao do proprio carlos nunes e texto de marcio ares o espetaculo traduz a imagem nao so do santo mas do homem genial que foi francisco da sua infancia ate a sua morte tomase dele a humanidade com que enfrentou o seu desafio de mais amar que ser amado a ideia e fazer rir sem ofender e divertir sem blasfemar sem ferir a aura de santo que lhe e peculiar o espetaculo mostra sob uma nova e divertida perspectiva a sua fraterna existencia sobre a terra explica o ator a italia do seculo xiii onde e quando viveu francisco vai se estender ate os tempos atuais e outros tantos lugares com muito humor e delicadeza francisco visitara aldeias italianas mas tambem brasilia escolas e asilos brasileiros o interior da alma de um povo latino dos simples e dos abastados dos povos ribeirinhos e dos grandes fazendeiros a peca toca as alegrias e as faltas desse nosso povo brasileiro adianta carlos nunes e nesse deslocamento espacotemporal que francisco muito mais homem que santo faz os seus muitos milagres a montagem se configura um grande desafio em sua concepcao texto musica e cenario para que se de o riso sem que se perca a imagem centenaria desse grande personagem a coragem a forca e a beleza que entremeiam o espetaculo exibem no palco o talento dos homens e a alegria de um artista mas tambem a fe de um povo que nao obstante toda a sua crenca anseia por um deus mais proximo e verdadeiro tarefa ardua embora prazerosa fazer uma comedia sobre tal personalidade no desafio reside no entanto o inusitado do texto declara o ator referindose ao autor marcio ares que alem de poeta e cronista formado em letras e filosofia pela pucminas e tambem capitao da policia militar de minas gerais a poesia e o seu refugio a escrita e sua salvacao e o olhar descontraido para os detalhes dessa historia e o nosso ideal de fazer rir diz carlos nunes o texto possibilita identificar a singularidade de francisco que habita as  nossas mais diversas relacoes de interatividade com o outro com o mundo com nos proprios  rompe com as convencoes culturais e coletivas que caracterizam o mundo contemporaneo com seu estilo e verdades tao diversificados recriando seus multiplos significados na peca a poesia e o humor assumem o dominio da alegria mais uma vez o ator carlos nunes assume a arte de fazer rir e divertir os seus espectadoreso atorcarlos nunes e formado em artes cenicas pelo palacio das artes e tem em seu curriculo diversas comedias de sucesso tais comocom jeito vai o novico a comedia dos sexos  quando dividiu o palco com o grande rogerio cardoso perolas do tejo  como sobreviver em festas e recepcoes com buffet escasso e comi uma galinha e paguei o pato tem ainda em seu curriculum o premio multishow do bom humor alem de participacoes em programas como sai de baixo a diarista show do tom e  programa do jo foto glaucia rodrigues', edtNome='NOTICIAS'),\n",
       " Row(CodNot=49002006, ComNot='   de maio sabado horas na sessao deste mes da mostra permanente cineclube francofono iniciativa da fundacao clovis salgado por meio do cine humberto mauro estara em cartaz o filme delegado levardin  do diretor frances claude chabrol no enredo as tramas de um assassino sao investigadas por um astucioso delegado a sessao sera comentada pelo pesquisador e critico roberto cotta a narrativa delegado levardin traca a historia de raul mons escritor catolico muito famoso que leva uma vida pacata com a mulher helena a filha adolescente veronique e o cunhado claude alvarez certo dia raul mons e encontrado morto assassinado numa praia totalmente nu com a palavraporcoescrita sobre sua nadega o delegado lavardin e enviado no local para fazer um inquerito sobre o crime as sessoes da mostra permanente cineclube francofono acontecem sempre no ultimo sabado do mes as h e contempla a producao cinematografica dos paises que falam a lingua francesa a programacao inclui uma diversidade de estilos e esteticas que compoem a filmografia desses paises com destaque para os grandes classicos foto divulgacao', edtNome='NOTICIAS'),\n",
       " Row(CodNot=48848264, ComNot='   nos dois ultimos anos o stf cortou a quantidade de segurancas pessoais a disposicao dos ministros em sao paulo e no rio mas aumentou no parana informa felipe frazao no estadao atualmente oito segurancas trabalham em sao paulo e quatro no rio no parana onde mora o relator da lava jato edson fachin o supremo reforcou o numero de agentes duas vezes em julho do ano passado o efetivo passou de quatro para cinco homens no inicio do mes passado depois de o ministro se queixar de ameacas sofridas por sua familia a corte ampliou para sete a quantidade de segurancas a disposicao de fachin no estadoeconomize em suas compras usando cupons de desconto', edtNome='NOTICIAS'),\n",
       " Row(CodNot=48807906, ComNot='   por stella calloni   os estados unidos e seus aliados preparam em silencio um plano brutal paraacabar com a ditadurana venezuela estegolpe de mestre masterstroke  ja em andamento teria uma primeira etapa posta em pratica antes das proximas eleicoes e se eles nao conseguirem expulsar o presidente nicolas maduro durante sua nova ofensiva acompanhada de todo o aparelho de propaganda e de midia alem de acoes violentaspara a defesa da democracia  o plano b esta pronto e ele engajara varios paises para impor umaforca multilateralde intervencao militar o panama a colombia o brasil e a guiana possuem um papel chave neste plano com o apoio da argentina e de outrosamigossob o controle do pentagono desde as bases a serem ocupadas passando pelos paises de fronteira que fornecerao um apoio direto inclusive com seus hospitais e reservas de viveres para os soldados tudo esta pronto tudo isto esta especificado em um documento de  paginas ainda nao divulgado que leva a assinatura do almirante kurt walter tidd atual comandante em chefe do southcom dos estados unidos o documento analisa a situacao atual e legitima uma guerra de contrainsurreicao contra a venezuela assim como o sistema perverso da guerra psicologica que permite compreender a persecucao o acossamento o aviltamento e a mentira usados para acabar nao somente com os dirigentes populares mas tambem com os povos enquanto tais o relatorio afirma que aditadura chavistana venezuela esta prestes a cair em funcao dos seus problemas internos a grave penuria de alimentos o esgotamento completo das rendas externas e a corrupcao desenfreada que teria ganhado o apoio internacional gracas aos petrodolares sem contar que o poder aquisitivo da moeda nacional esta em queda livre esta situacao eles admitem tela forjado artificialmente com uma impunidade chocante e consideram que ela nao mudara eles justificam suas acoes afirmando que o governo da venezuela tomara novas medidaspopulistaspara manterse no poder o tratamento reservado a oposicao manipulada aconselhada e paga pelos estados unidos nao deixa de surpreender pois lese no documento queo governo corrupto de maduro partira em derrocada mas infelizmente as forcas de oposicao que defendem a democracia e o nivel de vida da populacao nao tem a capacidade requerida para por um fim ao pesadelo venezuelanoem razao de suas disputas internas e deuma corrupcao semelhante aquela dos seus rivais ambos compartilham a mesma ausencia de raizese isso nao lhespermite tirar o melhor partido desta situacao e de tomar as decisoes necessarias para exagerar o estado de penuria e de precariedade na qual o grupo de pressao que exerce a ditadura de esquerda mergulhou o pais eles consideram ter de enfrentaruma acao criminosa sem precedentes na america latinae isso apesar de o governo da venezuela nao ter jamais agido contra os seus vizinhos manifestando sempre pelo contrario uma intensa solidariedade regional e mundial o plano dos estados unidos sustenta a tese de quea democracia se difunde na america continente onde o populismo radical parecia fadado a tomar seu controle  a argentina o equador e o brasil seriam exemplos desta teseeste renascimento da democracia se fundamenta em opcoes corajosas e as condicoes regionais sao favoraveis chegou o momento para os estados unidos de mostrar que estao engajados neste processo e a queda da ditadura venezuelana sera um marco em escala continental alem disso com a justificativa de quee a primeira ocasiao para a administracao trump de aplicar sua visao da democracia e da seguranca e de que e chegado o momento de agireles pressionam o presidente americano donald trump a entrar em acao convencendoo de que esta acao e crucial para o continente e para o mundo inteiro isto pressupoe nao somente a eliminacao definitiva do chavismo e a expulsao de seu representante como tambem trabalhar paraintensificar a insatisfacao popular favorecendo mais instabilidade e penuria a fim de tornar irreversivel o repudio ao ditador atual  se quisermos penetrar a arte da perversao contrainsurrecional e suficiente ler a parte deste documento que recomendaassediar sem descanso o presidente maduro ridicularizalo apresentandoo como um exemplo de inabilidade e de incompetencia um fantoche as ordens de cuba  e igualmente sugerido exacerbar as divisoes entre membros do grupo no poder ressaltando as diferencas de nivel de vida entre eles e seus dirigentes e cuidar para que as divergencias se acentuem a ideia consiste em fazer operacoes relampago no estilo de mauricio macri na argentina e de michel temer no brasil ao tomar medidas da precisao de um tiro de missel em algumas horas para a destruicao dos estados nacionais por sinal esses dois mordomos as ordens de washington sao personalidades corruptas mas que se tornaramvanguardas da transparencia pela graca imperial este documento assinado pelo chefe do southcom exige que o governo de maduro tornese insustentavel forcandoo assim a vacilar negociar ou fugir este plano que dentro em breve deveria eliminar a suposta ditadura na venezuela insta para quea instabilidade interna seja trazida a niveis criticos por meio da descapitalizacao do pais da fuga de capitais estrangeiros e da desvalorizacao brutal da moeda nacional pela aplicacao de novas medidas inflacionarias outro objetivofazer obstrucao a todas as importacoes e ao mesmo tempo desmotivar os eventuais investidores estrangeiros  para contribuira tornar a situacao ainda mais critica para a populacao  encontrase tambem neste plano apresentado em  paginas o chamado a aliados internos e a outras pessoas bem inseridas no panorama nacional com o objetivo de que possam engendrar manifestacoes disturbios e inseguranca saques roubos e atentados assim como apreensoes de navios e outros meios de transporte para perturbar a seguranca nacional nos paises limitrofes  convem tambem diz o documento quehaja vitimaspara poder assim acusar os governantesaumentando as dimensoes da crise humanitaria aos olhos do mundo inteiro  e necessario para isso manipular a mentira e falar de corrupcao generalizada dentre os dirigentes eassociar o governo ao narcotrafico para atingir sua imagem tanto no plano interno como junto da opiniao internacional  istosem esquecer de exaurir os membros do partido socialista unificado psuv difundir a discordia entre eles a fim de que eles rompam com grande estardalhaco suas ligacoes com o governo recusandose a aplicar as medidas e restricoes que pesam nao so sobre eles como sobre toda a populacao  a oposicao e tao fraca que e necessario criar friccoes entre o psuv e somos venezuela nao e so isso e precisoestruturar um plano para obter a desercao dos quadros mais capacitados de forma a privar o pais de todos os seus profissionais altamente qualificados isso agravara ainda mais a situacao interna e a responsabilidade sera imputada ao governo  ingerencia militar como em um romance de suspense o documento convida ausar oficiais do exercito como alternativa para uma solucao definitivae atornar ainda mais duras as condicoes no seio das forcas armadas a fim de preparar um golpe de estado antes do final de  caso esta crise nao seja suficiente para provocar a derrocada da ditadura ou se o ditador vier a se recusar a deixar seu lugar a outros considerando que tudo o que esta exposto anteriormente pode eventualmente nao render frutos com um desprezo gritante pela oposicao venezuelana o plano preconizaalimentar continuamente a tensao na fronteira com a colombia incitar o trafico de combustivel e outros bens promover iniciativas dos paramilitares com incursoes armadas e trafico de drogas para provocar incidentes armados com as forcas de seguranca da fronteira  sem contaro recrutamento de paramilitares principalmente nos campos de refugiados de cucuta de la guajira e do norte da provincia de santander vastas zonas ocupadas por cidadaos colombianos que haviam emigrado a venezuela e que agora retornam ao pais fugindo de um regime que aumentou a instabilidade nas fronteiras e aproveitandose do espaco vazio deixado pelas farc pela eln  sempre beligerante  e das atividades paramilitares na regiao do cartel do golfo   finalmente eis aqui a estruturacao do golpe final que sera proferidofavorecer a entrada em acao das forcas aliadas para apoiar os oficiais rebeldes do exercito ou para controlar a crise interna em caso da iniciativa ser retardada  impedir o ditador no curto prazo de continuar a ampliar sua base para controlar o tabuleiro interno se necessario agir antes das eleicoes previstas para o proximo mes de abril  na verdade essas eleicoes ocorrerao em maio e os estados unidos assim como os seus comparsas se recusam de antemao a reconhecer seu resultado o no da questao eobter o apoio e a cooperacao das autoridades aliadas de paises amigos brasil argentina colombia panama e guiana organizar a partir do panama o fornecimento das tropas o apoio logistico e medico fazer bom uso de tudo aquilo que proporciona a vigilancia eletronica e os sinais inteligentes dos hospitais e dos fundos enviados ao darien na floresta do panama aproveitarse do equipamento disponivel em drones do plano colombia assim como das areas das antigas bases militares de howard ou albrook panama e mesmo daquelas que pertencem ao rio hato lancar mao tambem do centro regional humanitario das nacoes unidas concebido para situacoes de catastrofe e de urgencia humanitaria e que contem uma pista de aterrissagem e suas proprias lojas  estamos diante da organizacao de uma intervencao que incluiestacionamento de avioes de combate e helicopteros de veiculos blindados de unidades de informacao e de unidades militares especiais para logistica policiais responsaveis militares e prisoes sera necessariorealizar a operacao militar sob uma bandeira internacional com o aval da conferencia dos exercitos latinoamericanos sob a protecao da oea e a supervisao no contexto legal e mediatico do secretariogeral da dita organizacao dos estados americanos luis almagro  convemdeclarar a necessidade para o comando continental de reforcar a acao servindose das ferramentas da democracia interamericana com o objetivo de evitar a ruptura democratica  sobretudo tratase dereunir brasil argentina colombia e panama para que eles contribuam com o reforco das tropas e facam uso de sua proximidade geografica e da sua experiencia em materia de operacoes em regioes densas e de floresta fechada o ambito internacional sera reforcado pela presenca de unidades de combate dos estados unidos e das nacoes mencionadas o todo sob o comando geral do estadomaior conjunto dirigido pelos estados unidos  e chocante observar a impunidade dentro da qual tudo isto se trama pelas costas dos povos em uma ilegalidade absoluta por outro lado tornamse enfim compreensiveis as recentes manobras militares dos estados unidos na fronteira entre o brasil e a venezuela brasil peru colombia no atlantico sul estados unidos chile inglaterra argentina no caso da argentina isso se faz sem a menor autorizacao do congresso nacional desde outubronovembro de  utilizar as facilidades do territorio do panama para a retaguarda e as capacidades da argentina para garantir a seguranca dos portos e as posicoes maritimas   propor ao brasil e a guiana de colocar ao nosso dispor sua situacao migratoria sobre a qual nos temos a intencao de agir na fronteira da guiana  coordenar o apoio a colombia ao brasil a guiana a aruba a curacao a trinidad e tobago e a outros estados frente ao afluxo de imigrantes da venezuela provocado pelos avancos da crise  prevese tambemfavorecer a participacao internacional a este esforco como parte da operacao multilateral com a contribuicao de estados organismos nao governamentais e de instituicoes internacionais e fornecer o que sera necessario em materia de logistica e de informacao sera necessario antecipar os acontecimentos particularmente sobre os pontos escolhidos em aruba puerto carreno inirida maicao barranquilla e sincelejo na colombia assim como em roraima manaus e boavista no brasil  eis como se desenha o mapa de uma guerra de intervencao anunciada informacao estrategica quanto a perspectiva estrategica sera necessariosufocar a simbolica chavista juntamente com sua representatividade e seu apoio popularmantendo simultaneamente o assedio ao ditadorcomo unico responsavel da crise na qual ele mergulhou a nacao  assim como aos seus mais proximos executantes aos quais se imputara a crise e a impossibilidade de sair dela em outro paragrafo fazse um apelo paraintensificar o descontentamento contra o regime de maduro  assinalar a incompetencia dos mecanismos de integracao instalados pelos regimes de cuba e da venezuela e mais particularmente da alba alianca bolivariana dos povos da nossa america e petrocaribe  no que tange a midia o plano desenhado pelos estados unidos exige que seja aumentada a difusao interna no pais das midias locais e estrangeiras de mensagens montadas e baseadas sobre testemunhos e publicacoes feitas no proprio pais lancando mao de todas as capacidades de disseminacao  o que inclui as redes sociais  de mensagensveiculando sobre todas as midias a necessidade de por fim a situacao porque ela e na essencia insustentavel  em um dos ultimos paragrafos do documento para obter o apoio internacional falase em assegurar ou mostrar o uso de meios violentos por parte da ditadura colocando em pratica todas as capacidades da guerra psicologica do exercito dos estados unidos  em outras palavras tratase de montar os mesmos cenarios a base de mentiras de falsas montagens de noticias de fotos e videos truncados tudo que foi posto em pratica durante as guerras coloniais do seculo  outro aspectoos estados unidos deverao apoiar os estados americanos que os apoiam no plano interno  melhorar sua imagem ea ordem multilateral de instituicoes do sistema interamericano como instrumentos indispensaveis para a solucao dos problemas regionais enfim promover a ideia do envio indispensavel de uma forca militar da onu para impor a paz uma vez que a ditadura corrupta de nicolas maduro tera sido varrida   cartel de drogas mexicano  jornalista e escritora argentina publicado orignialmente na rede voltaire traducao de sylvie giraud para brasileconomize em suas compras usando cupons de desconto', edtNome='NOTICIAS'),\n",
       " Row(CodNot=48784943, ComNot='   presa e torturada durante a ditadura militar  a presidente deposta pelo golpe de  dilma rousseff disse em sua conta no twitter que amidia que apoiou a derrubada do governo jango negou em  ter havido um golpe de estado segundo eles no brasil tb nao havia presos politicos muito menos torturados e mortos tenta agora usar o golpe de  do qual foi cumplice para encobrir o golpe de   escreveu dilma neste sabado  a postagem no twitter veio dois dias apos documentos do departamento de relacoes exteriores dos estados unidos apontarem que o general emilio medici presidente do pais de  a  autorizou a morte de pelo menos  pessoas por militares do centro de informacoes do exercito cie de acordo com as revelacoes o seu sucessor ernesto geisel tambem autorizou a continuacao dos homicidios de cidadaos consideradossubversivos perigosos  cada novo assassinato seria analisado e autorizado pelo general joao figueiredo indicado de geisel para o servico nacional de informacoes sni a revelacao foi feita pelo escritor doutor em relacoes internacionais e professor da fgv matias spektor  o grupo informa a geisel da execucao sumaria de  pessoas no cie durante o governo medici e pede autorizacao para continuar a politica de assassinatos no novo governo geisel explicita sua relutancia e pede tempo para pensar no dia seguinte geisel da luz verde a figueiredo para seguir com a politica mas impoe duas condicoes primeiroapenas subversivos perigososdeveriam ser executados segundo o cie nao mataria a esmo o palacio do planalto na figura de figueiredo teria de aprovar cada decisao caso a caso  disse spektor no facebook depois das revelacoes da cia a procuradoria federal dos direitos do cidadao e a camara criminal do ministerio publico federal emitiram nota cobrando acoes da justica para revisar a lei da anistiao ministerio publico federal desde  investiga e processa esses crimes em estrita observancia a essas normas entretanto em razao da decisao proferida pelo supremo tribunal federal em  no julgamento da arguicao de descumprimento de preceito fundamental  adpf no  que considerou valida a lei de anistia a luz do direito brasileiro o poder judiciario tem sido refratario as iniciativas de responsabilizacao criminal dos autores dessas graves violacoes aos direitos humanos  diz o texto  veja aqui economize em suas compras usando cupons de desconto', edtNome='NOTICIAS'),\n",
       " Row(CodNot=48751545, ComNot='  quarta feirasolenidade de abertura da feira     pavilhao de eventos da a agrotur  quinta feiraabertura da feira as   show da orquestra de viola caipira de tapiratiba sob a regencia do maestro alexandre magri logo apos show com belmonte e amarai  sexta feiraabertura da feira as  inicio dos shows  dj sayeg wolf borges e banda banda jet set diogo e giovane abertura da feira as  inicio dos shows  dj mateus bertozzi biquini cavadao banda alice nao mora mais aqui abertura da feira as  inicio as  com show  talentos de muzambinho', edtNome='NOTÍCIA'),\n",
       " Row(CodNot=48792834, ComNot=' bandeira dos estados unidos e vista antes da inauguracao da embaixada americana em jerusalem   jack guezafp a delegacao presidencial dos estados unidos que inclui a filha e assessora do presidente ivanka trump e seu marido e tambem assessor presidencial jared kushner chegou neste domingo a israel para participar amanha da inauguracao da embaixada americana em jerusalem o embaixador dos estados unidos no pais david friedman que defende a mudanca de tel aviv para a cidade sagrada ao assegurar que tal decisao ajudara a promover a paz recebeu a delegacao liderada pelo subsecretario de estado john sullivan que tambem inclui o secretario do tesouro steve mnuchin no aeroporto bengurion pouco depois do meiodia local h em brasilia veja tambemmundotel aviv sera destruida se israel agir estupidamente diz clerigo do iraquery_builder  maio   hmundosauditas se alinham a israel e apoiam trump na quebra de pacto com o iraquery_builder  maio   h a cerimonia esta prevista para amanha as h h em brasilia no local que ate agora funcionava como secao de vistos do consulado geral dos eua no bairro de arnona em jerusalem ocidental e que se transformara na nova sede da representacao diplomatica americana os estados unidos serao o primeiro pais a estabelecer sua embaixada em jerusalem desde  depois que paises da america central retiraram suas representacoes em resposta as solicitacao da comunidade internacional movimento que passou a ocorrer depois que israel anexou em seus estatutos internos em  a parte oriental da cidade que ate  era parte da jordania  ao anexar a cidade os israelenses nomearam toda a cidade como sua capital eterna e indivisivel pedestres observam passagem de motociclistas nas ruas de jerusalem com bandeiras antes da inauguracao da embaixada americana  pedestres observam passagem de motociclistas nas ruas de jerusalem com bandeiras antes da inauguracao da embaixada americana   ammar awadreuters esta semana seremos abencoados com um evento verdadeiramente historico que e a decisao da maior potencia do mundo nosso amigo estados unidos de mudar sua embaixada para ca jerusalem declarou hoje o primeiroministro israelense benjamin netanyahu na reuniao de seu gabinete de governo na quartafeira  a guatemala tambem transferira sua embaixada para jerusalem em outra cerimonia que contara com a presenca de seu presidente jimmy morales ja o paraguai fara o mesmo antes do fim do mes num evento que tambem contara com a presenca de seu chefe de estado horacio cartes bandeiras israelenses e americanas estao hasteadas ha dias nas avenidas de jerusalem e os perfis da embaixada nas redes sociais ja mudaram sua descricao de tel aviv para a cidade sagrada palestinos e grupos de israelenses pacifistas convocaram protestos para amanha em jerusalem e a grande marcha do retorno de gaza que vem acontecendo desde  de marco na fronteira com israel preve uma grande manifestacao para denunciar a mudanca da embaixada americana com efe ', edtNome='MUNDO'),\n",
       " Row(CodNot=48897393, ComNot=' carlos henrique passos presidente do sindusconba embarcou para florianopolis onde participa da a edicao do encontro nacional da industria da construcao enic que vai de hoje a sabado ele diz que o evento e top para a discussao dos rumos da construcao  a associacao brasileira de juristas pela democracia abjdba realiza sabado h na faculdade de direito da ufba a mesa tematica em defesa das garantias juridicas e dos direitos fundamentais na mesa as professoras marilia muricy carol proner e daniela portugal e os professores julio sa rocha e carlos eduardo freitas  rafael diazbalart vicepresidente da american association of port authorities  aapa para america latina vai dar palestra amanha h na codeba sobre inovocao portuaria nas cidades sustentaveis vem a convite da codeba e da antaq  a fundacao joao fernandes da cunha vai comemorar os seus  anos de fundacao segunda h com a palestra o leigo cristao e o dialogo com a cultura do professor jose antonio saja', edtNome='POLÍTICA'),\n",
       " Row(CodNot=48467541, ComNot=' confirmacao da vaga veio mesmo com derrota por  a  para a roma na capital italiana depois de mais de uma decada sem figurar em uma final de liga dos campeoes da europa o liverpool quinto clube que mais vezes venceu o torneio com cinco tacas enfim volta a uma decisao europeia a confirmacao da vaga veio mesmo com a derrota por  a  para a roma nesta quartafeira na capital italiana a ultima vez que a equipe havia disputado uma final da competicao foi na temporada  quando perdeu para o milan por  a  em atenas a classificacao marca tambem o retorno de um clube ingles a decisao na temporada  o chelsea enfrentou o bayern de munique na alemanha e ficou com o titulo apos abrir boa vantagem no jogo de ida contra a roma no qual venceu por  a  o liverpool conseguiu segurar os italianos nesta quarta e com a derrota por  a  garantiu a ida a kiev no dia  de maio para encarar o real madrid retrospecto o liverpool pode comemorar o retrospecto diante do gigante espanhol em decisoes de liga na final de  disputada em paris a unica entre eles os ingleses levantaram o trofeu depois de baterem o real por  a  folhapress', edtNome='ESPORTES'),\n",
       " Row(CodNot=49300009, ComNot=' divulgacao  globo maria a controversa e sofredora protagonista de onde nascem os fortes nao conquistou apenas um lugar privilegiado no coracao do publico mas rendeu a sua interprete alice wegmann um espcao no estrelado alto escalao de atores da globo com o sucesso da serie a globo planeja garantir alice no seu time de elenco fixo com contrato lugar destinado as estrelas de primeira grandeza da emissora segundo informa o agora s paulo alice wegmann estreou na globo em  na vigesima temporada demalhacao autor  fonte fama ao minuto', edtNome='ENTRETENIMENTO')]"
      ]
     },
     "execution_count": 14,
     "metadata": {},
     "output_type": "execute_result"
    }
   ],
   "source": [
    "data.head(10)"
   ]
  },
  {
   "cell_type": "code",
   "execution_count": null,
   "metadata": {},
   "outputs": [],
   "source": [
    "data.count()"
   ]
  },
  {
   "cell_type": "code",
   "execution_count": 17,
   "metadata": {},
   "outputs": [],
   "source": [
    "from pyspark.ml.feature import HashingTF, IDF, Tokenizer, StopWordsRemover, RegexTokenizer"
   ]
  },
  {
   "cell_type": "code",
   "execution_count": 18,
   "metadata": {},
   "outputs": [],
   "source": [
    "tk_model = RegexTokenizer(minTokenLength=2, inputCol=\"ComNot\", outputCol=\"tkComNot\", pattern=\"\\\\W\")\n",
    "data = tk_model.transform(data)"
   ]
  },
  {
   "cell_type": "code",
   "execution_count": null,
   "metadata": {
    "scrolled": true
   },
   "outputs": [],
   "source": [
    "data.select(\"tkComNot\").head(1)"
   ]
  },
  {
   "cell_type": "code",
   "execution_count": null,
   "metadata": {},
   "outputs": [],
   "source": [
    "stopwords_with_accents = ['de', 'a', 'o', 'que', 'e', 'do', 'da', 'em', 'um', 'para', 'com', 'não', 'uma', 'os', 'no', 'se', 'na', 'por',\n",
    "             'mais', 'as', 'dos', 'como', 'mas', 'foi', 'ao', 'ele', 'das', 'tem', 'à', 'seu', 'sua', 'ou', 'ser', 'quando',\n",
    "             'muito', 'há', 'nos', 'já', 'está', 'eu', 'também', 'só', 'pelo', 'pela', 'até', 'isso', 'ela', 'entre', 'era',\n",
    "             'depois', 'sem', 'mesmo', 'aos', 'ter', 'seus', 'quem', 'nas', 'me', 'esse', 'eles', 'estão', 'você', 'tinha',\n",
    "             'foram', 'essa', 'num', 'nem', 'suas', 'meu', 'às', 'minha', 'têm', 'numa', 'pelos', 'elas', 'havia', 'seja',\n",
    "             'qual', 'será', 'nós', 'tenho', 'lhe', 'deles', 'essas', 'esses', 'pelas', 'este', 'fosse', 'dele', 'tu',\n",
    "             'te', 'vocês', 'vos', 'lhes', 'meus', 'minhas', 'teu', 'tua', 'teus', 'tuas', 'nosso', 'nossa', 'nossos',\n",
    "             'nossas', 'dela', 'delas', 'esta', 'estes', 'estas', 'aquele', 'aquela', 'aqueles', 'aquelas', 'isto', 'aquilo,\n",
    "             'estou', 'está', 'estamos', 'estão', 'estive', 'esteve', 'estivemos', 'estiveram', 'estava', 'estávamos',\n",
    "             'estavam', 'estivera', 'estivéramos', 'esteja', 'estejamos', 'estejam', 'estivesse', 'estivéssemos',\n",
    "             'estivessem', 'estiver', 'estivermos', 'estiverem', 'hei', 'há', 'havemos', 'hão', 'houve', 'houvemos',\n",
    "             'houveram', 'houvera', 'houvéramos', 'haja', 'hajamos', 'hajam', 'houvesse', 'houvéssemos', 'houvessem',\n",
    "             'houver', 'houvermos', 'houverem', 'houverei', 'houverá', 'houveremos', 'houverão', 'houveria', 'houveríamos',\n",
    "             'houveriam', 'sou', 'somos', 'são', 'era', 'éramos', 'eram', 'fui', 'foi', 'fomos', 'foram', 'fora', 'fôramos',\n",
    "             'seja', 'sejamos', 'sejam', 'fosse', 'fôssemos', 'fossem', 'for', 'formos', 'forem', 'serei', 'será',\n",
    "             'seremos', 'serão', 'seria', 'seríamos', 'seriam', 'tenho', 'tem', 'temos', 'tém', 'tinha', 'tínhamos',\n",
    "             'tinham', 'tive', 'teve', 'tivemos', 'tiveram', 'tivera', 'tivéramos', 'tenha', 'tenhamos', 'tenham',\n",
    "             'tivesse', 'tivéssemos', 'tivessem', 'tiver', 'tivermos', 'tiverem', 'terei', 'terá', 'teremos', 'terão',\n",
    "             'teria', 'teríamos', 'teriam']"
   ]
  },
  {
   "cell_type": "code",
   "execution_count": 19,
   "metadata": {},
   "outputs": [],
   "source": [
    "stopwords_without_accents = ['de', 'a', 'o', 'que', 'e', 'do', 'da', 'em', 'um', 'para', 'com', 'nao', 'uma', 'os', 'no', 'se', 'na', 'por',\n",
    "             'mais', 'as', 'dos', 'como', 'mas', 'foi', 'ao', 'ele', 'das', 'tem', 'seu', 'sua', 'ou', 'ser', 'quando',\n",
    "             'muito', 'ha', 'nos', 'ja', 'esta', 'eu', 'também', 'so', 'pelo', 'pela', 'ate', 'isso', 'ela', 'entre', 'era',\n",
    "             'depois', 'sem', 'mesmo', 'aos', 'ter', 'seus', 'quem', 'nas', 'me', 'esse', 'eles', 'estao', 'voce', 'tinha',\n",
    "             'foram', 'essa', 'num', 'nem', 'suas', 'meu', 'minha', 'tem', 'numa', 'pelos', 'elas', 'havia', 'seja',\n",
    "             'qual', 'sera', 'nos', 'tenho', 'lhe', 'deles', 'essas', 'esses', 'pelas', 'este', 'fosse', 'dele', 'tu',\n",
    "             'te', 'voces', 'vos', 'lhes', 'meus', 'minhas', 'teu', 'tua', 'teus', 'tuas', 'nosso', 'nossa', 'nossos',\n",
    "             'nossas', 'dela', 'delas', 'esta', 'estes', 'estas', 'aquele', 'aquela', 'aqueles', 'aquelas', 'isto', 'aquilo',\n",
    "             'estou', 'estamos', 'estao', 'estive', 'esteve', 'estivemos', 'estiveram', 'estava', 'estavamos',\n",
    "             'estavam', 'estivera', 'estiveramos', 'esteja', 'estejamos', 'estejam', 'estivesse', 'estivessemos',\n",
    "             'estivessem', 'estiver', 'estivermos', 'estiverem', 'hei', 'ha', 'havemos', 'hao', 'houve', 'houvemos',\n",
    "             'houveram', 'houvera', 'houveramos', 'haja', 'hajamos', 'hajam', 'houvesse', 'houvessemos', 'houvessem',\n",
    "             'houver', 'houvermos', 'houverem', 'houverei', 'houvera', 'houveremos', 'houverao', 'houveria', 'houveríamos',\n",
    "             'houveriam', 'sou', 'somos', 'sao', 'era', 'eramos', 'eram', 'fui', 'foi', 'fomos', 'foram', 'fora', 'foramos',\n",
    "             'seja', 'sejamos', 'sejam', 'fosse', 'fossemos', 'fossem', 'for', 'formos', 'forem', 'serei', 'sera',\n",
    "             'seremos', 'serao', 'seria', 'seriamos', 'seriam', 'tenho', 'tem', 'temos', 'tem', 'tinha', 'tinhamos',\n",
    "             'tinham', 'tive', 'teve', 'tivemos', 'tiveram', 'tivera', 'tiveramos', 'tenha', 'tenhamos', 'tenham',\n",
    "             'tivesse', 'tivessemos', 'tivessem', 'tiver', 'tivermos', 'tiverem', 'terei', 'tera', 'teremos', 'terao',\n",
    "             'teria', 'teriamos', 'teriam']\n",
    "\n",
    "#https://gist.githubusercontent.com/alopes/5358189/raw/2107d809cca6b83ce3d8e04dbd9463283025284f/stopwords.txt"
   ]
  },
  {
   "cell_type": "code",
   "execution_count": 20,
   "metadata": {},
   "outputs": [],
   "source": [
    "StopWordsRemover.loadDefaultStopWords('portuguese')\n",
    "remover = StopWordsRemover(inputCol=\"tkComNot\", outputCol=\"filteredTKComNot\", stopWords=stopwords_without_accents)\n",
    "data = remover.transform(data)"
   ]
  },
  {
   "cell_type": "code",
   "execution_count": 21,
   "metadata": {},
   "outputs": [],
   "source": [
    "data = data.na.drop(subset=['filteredTKComNot'])\n",
    "#remove_empty_tokens = udf(lambda c: list(filter(None, c)), StringType()))\n",
    "#data = data.withColumn('filteredTKComNot', remove_empty_tokens(data.filteredTKComNot))\n",
    "#data.where(col('tkComNot').isNull()).show()"
   ]
  },
  {
   "cell_type": "code",
   "execution_count": 20,
   "metadata": {
    "scrolled": true
   },
   "outputs": [
    {
     "data": {
      "text/plain": [
       "[Row(filteredTKComNot=['unidades', 'regionais', 'saude', 'bairros', 'cristovao', 'boa', 'vista', 'reformadas', 'atendimento', 'usuarios', 'alterado', 'partir', 'desta', 'quartafeira', 'atendimento', 'antiga', 'urs', 'nidia', 'modesto', 'veludo', 'praca', 'augusto', 'lemp', 'lado', 'farmacia', 'solidaria', 'atendimento', 'local', 'provisorio', 'enquanto', 'predios', 'unidades', 'passam', 'reforma', 'visando', 'regularizacao', 'acordo', 'normas', 'vigilancia', 'sanitaria', 'conforme', 'projeto', 'reforma', 'unidades', 'boa', 'vista', 'cristovao', 'trocados', 'toda', 'estrutura', 'eletrica', 'telhado', 'central', 'material', 'esterilizacao', 'projeto', 'preve', 'ainda', 'entrada', 'luz', 'natural', 'unidades', 'valor', 'investimentos', 'unidades', 'urs', 'boa', 'vista', 'urs', 'cristovao', 'segundo', 'chefe', 'departamento', 'atencao', 'especializada', 'sheron', 'hellen', 'silva', 'prazo', 'obra', 'meses', 'reforma', 'acontecendo', 'melhorar', 'estrutura', 'unidades', 'usuario', 'trabalhador', 'durante', 'tempo', 'obra', 'atendimento', 'antiga', 'urs', 'nidia', 'modesto', 'veludo', 'fica', 'merces', 'unidade', 'adequada', 'atender', 'pacientes', 'encontramos', 'vez', 'possui', 'estrutura', 'unidade', 'regional', 'diferenciada', 'demais', 'sei', 'pode', 'ficar', 'longe', 'pacientes', 'boa', 'vista', 'cristovao', 'podiamos', 'transferir', 'atendimento', 'unidade', 'basica', 'saude', 'exemplo', 'explica', 'sheron', 'assim', 'segundo', 'sheron', 'sistema', 'informacao', 'unidades', 'instalado', 'novo', 'local', 'pacientes', 'localizados', 'remarcacao', 'dias', 'abril', 'periodo', 'mudanca', 'duas', 'unidades', 'precisam', 'procurar', 'urs', 'novo', 'endereco', 'resolver', 'quaisquer', 'pendencias', 'tirar', 'duvidas', 'sobre', 'remarcacao', 'exames', 'consultas', 'acredito', 'neste', 'primeiro', 'dia', 'atendimento', 'tranquilo', 'tumulto', 'vale', 'lembrar', 'ainda', 'seis', 'novos', 'consultorios', 'odontologicos', 'servico', 'novo', 'estarao', 'funcionando', 'quarta', 'instalacao', 'tubos', 'ar', 'comprimido', 'processo', 'montagem', 'devemos', 'comecar', 'atendimentos', 'dia', 'maio', 'finaliza', 'sheron'])]"
      ]
     },
     "execution_count": 20,
     "metadata": {},
     "output_type": "execute_result"
    }
   ],
   "source": [
    "data.select(\"filteredTKComNot\").head(1)"
   ]
  },
  {
   "cell_type": "code",
   "execution_count": null,
   "metadata": {},
   "outputs": [],
   "source": [
    "# stem words ???"
   ]
  },
  {
   "cell_type": "code",
   "execution_count": 22,
   "metadata": {},
   "outputs": [],
   "source": [
    "from pyspark.ml.feature import CountVectorizer\n",
    "cv_model = CountVectorizer(inputCol=\"filteredTKComNot\", outputCol=\"TFfilteredTKComNot\")"
   ]
  },
  {
   "cell_type": "code",
   "execution_count": 26,
   "metadata": {},
   "outputs": [
    {
     "data": {
      "text/plain": [
       "262144"
      ]
     },
     "execution_count": 26,
     "metadata": {},
     "output_type": "execute_result"
    }
   ],
   "source": [
    "vocabulary_size = cv_model.getVocabSize()\n",
    "vocabulary_size"
   ]
  },
  {
   "cell_type": "code",
   "execution_count": 23,
   "metadata": {},
   "outputs": [],
   "source": [
    "# Option 1\n",
    "cv_model_fit = cv_model.fit(data)\n",
    "data = cv_model_fit.transform(data)"
   ]
  },
  {
   "cell_type": "code",
   "execution_count": 28,
   "metadata": {},
   "outputs": [],
   "source": [
    "vocab = cv_model_fit.vocabulary\n",
    "vocab_broadcast = sc.broadcast(vocab)"
   ]
  },
  {
   "cell_type": "code",
   "execution_count": null,
   "metadata": {},
   "outputs": [],
   "source": [
    "vocab"
   ]
  },
  {
   "cell_type": "code",
   "execution_count": null,
   "metadata": {},
   "outputs": [],
   "source": [
    "# Option 2\n",
    "#hash_tf = HashingTF(inputCol=\"filteredTKComNot\", outputCol=\"TFfilteredTKComNot\", numFeatures=vocabulary_size)\n",
    "#df_01_2017 = hash_tf.transform(df_01_2017)"
   ]
  },
  {
   "cell_type": "code",
   "execution_count": 24,
   "metadata": {},
   "outputs": [],
   "source": [
    "idf = IDF(inputCol=\"TFfilteredTKComNot\", outputCol=\"IDFfilteredTKComNot\", minDocFreq=5)\n",
    "idf_model = idf.fit(data)\n",
    "data = idf_model.transform(data)"
   ]
  },
  {
   "cell_type": "code",
   "execution_count": 25,
   "metadata": {},
   "outputs": [],
   "source": [
    "# Split data 0,7 0,3\n",
    "splits = data.randomSplit([0.7, 0.3], seed=1234)\n",
    "train = splits[0]\n",
    "test = splits[1]"
   ]
  },
  {
   "cell_type": "code",
   "execution_count": null,
   "metadata": {},
   "outputs": [],
   "source": [
    "train.count()"
   ]
  },
  {
   "cell_type": "code",
   "execution_count": null,
   "metadata": {},
   "outputs": [],
   "source": [
    "test.count()"
   ]
  },
  {
   "cell_type": "code",
   "execution_count": 26,
   "metadata": {},
   "outputs": [],
   "source": [
    "# LDA\n",
    "# https://github.com/zaratsian/Spark/blob/master/text_analytics_datadriven_topics.py\n",
    "# https://towardsdatascience.com/apache-spark-hashing-or-dictionary-d23c0e046a19\n",
    "# https://www.3pillarglobal.com/insights/topic-clusters-tf-idf-vectorization-using-apache-spark?cn-reloaded=1\n",
    "# http://spark.apache.org/docs/2.2.0/api/python/pyspark.ml.html?highlight=minhash%20lsh\n",
    "# https://docs.scipy.org/doc/scipy/reference/generated/scipy.spatial.distance.jaccard.html\n",
    "from pyspark.ml.linalg import Vectors, SparseVector, DenseVector\n",
    "from pyspark.ml.clustering import LDA, DistributedLDAModel, LocalLDAModel"
   ]
  },
  {
   "cell_type": "code",
   "execution_count": 27,
   "metadata": {},
   "outputs": [],
   "source": [
    "lda = LDA(k=10, seed=1234, featuresCol=\"IDFfilteredTKComNot\", optimizer=\"em\")\n",
    "lda_model = lda.fit(train)"
   ]
  },
  {
   "cell_type": "code",
   "execution_count": 33,
   "metadata": {},
   "outputs": [],
   "source": [
    "local_model = lda_model.toLocal()"
   ]
  },
  {
   "cell_type": "code",
   "execution_count": 28,
   "metadata": {
    "scrolled": true
   },
   "outputs": [],
   "source": [
    "# Store model\n",
    "lda_path = \"/home/diegomarques/Documents/Mestrado/lda_path/\"\n",
    "\n",
    "#lda.save(lda_path + \"lda\")\n",
    "#same_lda = LDA.load(lda_path + \"lda\")"
   ]
  },
  {
   "cell_type": "code",
   "execution_count": 30,
   "metadata": {},
   "outputs": [],
   "source": [
    "lda_model.save(lda_path + \"lda_model_distributed_sample\")\n",
    "distributed_lda_model = DistributedLDAModel.load(lda_path + \"lda_model_distributed_sample\")"
   ]
  },
  {
   "cell_type": "code",
   "execution_count": 47,
   "metadata": {},
   "outputs": [],
   "source": [
    "#local_model.save(lda_path + \"lda_model_local\")\n",
    "#same_local_model = LocalLDAModel.load(lda_path + \"lda_model_local\")"
   ]
  },
  {
   "cell_type": "code",
   "execution_count": 31,
   "metadata": {},
   "outputs": [],
   "source": [
    "#data = sc.read.load(path + \"/spark_df/\" + \"mes_df\")\n",
    "data.write.save(path + \"/spark_df/\" + \"mes_df_sample_10\")"
   ]
  },
  {
   "cell_type": "code",
   "execution_count": 16,
   "metadata": {},
   "outputs": [],
   "source": [
    "#ldatopics = lda_model.describeTopics()\n",
    "ldatopics = distributed_lda_model.describeTopics()"
   ]
  },
  {
   "cell_type": "code",
   "execution_count": 17,
   "metadata": {},
   "outputs": [
    {
     "name": "stdout",
     "output_type": "stream",
     "text": [
      "+-----+--------------------+--------------------+\n",
      "|topic|         termIndices|         termWeights|\n",
      "+-----+--------------------+--------------------+\n",
      "|    0|[87, 40, 8, 61, 1...|[0.00130828987925...|\n",
      "|    1|[268, 469, 1033, ...|[0.00205568631659...|\n",
      "|    2|[33, 94, 127, 331...|[0.01258220107946...|\n",
      "+-----+--------------------+--------------------+\n",
      "only showing top 3 rows\n",
      "\n"
     ]
    }
   ],
   "source": [
    "ldatopics.show(3)"
   ]
  },
  {
   "cell_type": "code",
   "execution_count": 32,
   "metadata": {},
   "outputs": [],
   "source": [
    "def map_termID_to_Word(termIndices):\n",
    "    words = []\n",
    "    for termID in termIndices:\n",
    "        words.append(vocab_broadcast.value[termID])\n",
    "    \n",
    "    return words\n",
    "\n",
    "udf_map_termID_to_Word = udf(map_termID_to_Word , ArrayType(StringType()))"
   ]
  },
  {
   "cell_type": "code",
   "execution_count": 53,
   "metadata": {},
   "outputs": [],
   "source": [
    "ldatopics_mapped = ldatopics.withColumn(\"topic\", udf_map_termID_to_Word(ldatopics.termIndices))"
   ]
  },
  {
   "cell_type": "code",
   "execution_count": 55,
   "metadata": {
    "scrolled": false
   },
   "outputs": [
    {
     "name": "stdout",
     "output_type": "stream",
     "text": [
      "+----------------------------------------------------------------------------------------------------+\n",
      "|topic                                                                                               |\n",
      "+----------------------------------------------------------------------------------------------------+\n",
      "|[tribunal, saude, governo, justica, federal, estado, lei, lula, processo, deputado]                 |\n",
      "|[copa, selecao, israel, contra, jogo, jogadores, mundo, russia, time, clube]                        |\n",
      "|[la, el, en, los, del, un, con, las, una, su]                                                       |\n",
      "|[mercado, cento, indice, alta, shopping, trimestre, dolar, milhoes, brasil, dub]                    |\n",
      "|[saude, foro, jogo, contra, pontos, pessoas, vitoria, time, dia, casos]                             |\n",
      "|[governo, caminhoneiros, diesel, preco, bilhoes, reducao, ano, credito, milhoes, petrobras]         |\n",
      "|[evento, festival, anos, local, cidade, pessoas, policia, brasil, tambem, rio]                      |\n",
      "|[policia, federal, vitima, militar, caminhoneiros, estado, policiais, governo, combustivel, segundo]|\n",
      "|[ensino, km, vagas, medio, experiencia, br, caminhoneiros, meses, governo, carteira]                |\n",
      "|[the, to, of, in, and, on, us, that, said, trump]                                                   |\n",
      "+----------------------------------------------------------------------------------------------------+\n",
      "\n"
     ]
    }
   ],
   "source": [
    "ldatopics_mapped.select(ldatopics_mapped.topic).show(10, False)"
   ]
  },
  {
   "cell_type": "code",
   "execution_count": null,
   "metadata": {},
   "outputs": [],
   "source": [
    "data.show(1, False)"
   ]
  },
  {
   "cell_type": "code",
   "execution_count": 33,
   "metadata": {},
   "outputs": [],
   "source": [
    "#data_ldatopics_mapped = lda_model.transform(data.select('CodNot', 'ComNot', 'edtNome'))\n",
    "data_ldatopics_mapped = distributed_lda_model.transform(train.select('CodNot', 'ComNot', 'edtNome', 'IDFfilteredTKComNot'))"
   ]
  },
  {
   "cell_type": "code",
   "execution_count": 37,
   "metadata": {
    "scrolled": true
   },
   "outputs": [
    {
     "data": {
      "text/plain": [
       "[Row(CodNot=49204549, ComNot='    e  de maio de  | sexta e sabado h e domingo h em pleno tempo de homenagens a tantos icones da historia artisticocultural de toda ordem surgiu a ideia de se falar sobre um grande heroi francisco de assis tudo com muito humor como e caracteristico na trajetoria de sucesso  de carlos nunes nos palcos mineiros isso alem da riqueza historica e uma boa dose de poesia ele divide o palco com o ator andre mauricio com direcao do proprio carlos nunes e texto de marcio ares o espetaculo traduz a imagem nao so do santo mas do homem genial que foi francisco da sua infancia ate a sua morte tomase dele a humanidade com que enfrentou o seu desafio de mais amar que ser amado a ideia e fazer rir sem ofender e divertir sem blasfemar sem ferir a aura de santo que lhe e peculiar o espetaculo mostra sob uma nova e divertida perspectiva a sua fraterna existencia sobre a terra explica o ator a italia do seculo xiii onde e quando viveu francisco vai se estender ate os tempos atuais e outros tantos lugares com muito humor e delicadeza francisco visitara aldeias italianas mas tambem brasilia escolas e asilos brasileiros o interior da alma de um povo latino dos simples e dos abastados dos povos ribeirinhos e dos grandes fazendeiros a peca toca as alegrias e as faltas desse nosso povo brasileiro adianta carlos nunes e nesse deslocamento espacotemporal que francisco muito mais homem que santo faz os seus muitos milagres a montagem se configura um grande desafio em sua concepcao texto musica e cenario para que se de o riso sem que se perca a imagem centenaria desse grande personagem a coragem a forca e a beleza que entremeiam o espetaculo exibem no palco o talento dos homens e a alegria de um artista mas tambem a fe de um povo que nao obstante toda a sua crenca anseia por um deus mais proximo e verdadeiro tarefa ardua embora prazerosa fazer uma comedia sobre tal personalidade no desafio reside no entanto o inusitado do texto declara o ator referindose ao autor marcio ares que alem de poeta e cronista formado em letras e filosofia pela pucminas e tambem capitao da policia militar de minas gerais a poesia e o seu refugio a escrita e sua salvacao e o olhar descontraido para os detalhes dessa historia e o nosso ideal de fazer rir diz carlos nunes o texto possibilita identificar a singularidade de francisco que habita as  nossas mais diversas relacoes de interatividade com o outro com o mundo com nos proprios  rompe com as convencoes culturais e coletivas que caracterizam o mundo contemporaneo com seu estilo e verdades tao diversificados recriando seus multiplos significados na peca a poesia e o humor assumem o dominio da alegria mais uma vez o ator carlos nunes assume a arte de fazer rir e divertir os seus espectadoreso atorcarlos nunes e formado em artes cenicas pelo palacio das artes e tem em seu curriculo diversas comedias de sucesso tais comocom jeito vai o novico a comedia dos sexos  quando dividiu o palco com o grande rogerio cardoso perolas do tejo  como sobreviver em festas e recepcoes com buffet escasso e comi uma galinha e paguei o pato tem ainda em seu curriculum o premio multishow do bom humor alem de participacoes em programas como sai de baixo a diarista show do tom e  programa do jo foto glaucia rodrigues', edtNome='NOTICIAS', IDFfilteredTKComNot=SparseVector(262144, {0: 2.4891, 2: 1.0011, 3: 3.3528, 18: 4.1885, 23: 1.8247, 25: 3.3192, 37: 7.0139, 41: 1.7076, 43: 7.2873, 49: 1.9055, 54: 1.8112, 60: 2.1153, 62: 1.8679, 65: 1.9785, 80: 2.1106, 82: 4.403, 108: 2.1092, 139: 2.3793, 147: 2.3855, 149: 2.3594, 153: 2.6027, 171: 2.5184, 186: 2.4532, 232: 2.5099, 255: 2.6476, 262: 5.0929, 265: 2.5313, 282: 5.607, 297: 2.6235, 301: 5.8508, 305: 14.0287, 309: 2.683, 337: 2.8443, 355: 2.7663, 361: 2.8273, 387: 3.1772, 394: 3.0117, 395: 2.84, 400: 2.918, 416: 5.7462, 432: 2.943, 448: 3.0273, 467: 3.0442, 468: 2.9544, 474: 3.1311, 477: 3.2177, 483: 3.094, 500: 13.0209, 513: 3.0722, 534: 3.1874, 567: 6.1438, 568: 3.2836, 586: 6.3345, 594: 3.2318, 629: 3.5296, 641: 3.3699, 646: 3.2703, 648: 3.1833, 676: 3.34, 687: 3.2901, 739: 10.5933, 767: 3.8356, 777: 21.4321, 821: 3.451, 865: 3.8963, 878: 7.0195, 935: 3.6494, 981: 11.2453, 987: 3.6218, 1067: 3.7216, 1131: 4.1691, 1152: 3.8814, 1175: 3.719, 1201: 3.9644, 1205: 3.9341, 1244: 3.7591, 1249: 7.7355, 1284: 3.8994, 1290: 3.8732, 1338: 3.7865, 1366: 3.8528, 1525: 4.3093, 1578: 3.9731, 1579: 4.3876, 1674: 12.288, 1685: 17.9463, 1761: 8.4523, 1765: 12.8409, 1818: 4.4249, 1862: 4.0921, 2033: 4.2178, 2062: 4.2206, 2106: 4.2436, 2166: 4.3992, 2206: 4.5222, 2209: 8.5238, 2232: 4.5951, 2241: 4.3552, 2275: 9.0583, 2278: 4.5744, 2293: 4.4461, 2340: 4.4211, 2371: 4.5601, 2376: 9.3161, 2401: 4.4628, 2444: 4.4248, 2451: 4.3735, 2477: 27.4755, 2484: 4.4321, 2538: 4.4641, 2541: 4.4563, 2556: 4.4549, 2574: 14.8648, 2645: 4.5173, 2654: 4.7161, 2770: 4.6137, 2782: 4.6792, 2884: 4.8359, 2912: 9.299, 3126: 4.6935, 3133: 4.6439, 3315: 4.7567, 3316: 4.9606, 3453: 4.9911, 3809: 9.7578, 3908: 4.9398, 3949: 5.1037, 3985: 5.0769, 3987: 4.9135, 4053: 5.2203, 4077: 5.1781, 4209: 5.04, 4388: 20.768, 4596: 5.2876, 4612: 5.2148, 4855: 5.1565, 4897: 5.4, 4951: 5.2916, 4969: 5.1963, 4994: 5.3148, 5198: 5.3739, 5411: 5.5255, 5448: 5.2983, 5579: 5.3389, 5712: 11.4328, 5935: 5.5211, 6099: 5.4272, 6105: 5.4955, 6596: 5.6779, 6607: 5.6186, 6615: 5.652, 6642: 5.7539, 6685: 5.7685, 6827: 5.5799, 7066: 5.7341, 7098: 5.6252, 7230: 5.9179, 7253: 5.668, 7289: 5.8015, 7376: 5.711, 7535: 18.3286, 7819: 5.866, 7842: 6.2631, 7970: 5.9463, 8520: 6.1451, 8596: 6.3583, 9013: 5.9907, 9097: 6.0769, 9533: 6.0538, 9773: 6.1897, 9981: 6.3123, 10775: 6.4029, 10831: 6.2172, 11036: 6.2363, 11286: 6.7666, 11723: 6.4359, 11732: 6.5683, 12152: 6.4458, 12280: 6.4777, 12548: 6.4483, 12933: 13.0507, 13978: 13.2503, 14184: 6.6236, 14272: 6.8345, 14716: 6.8857, 14922: 6.8438, 15034: 6.7394, 15769: 6.8457, 15843: 20.8314, 15871: 7.2418, 16266: 6.8475, 16271: 7.0925, 16383: 6.8532, 16651: 6.8896, 16765: 6.9542, 16793: 7.253, 17372: 6.9667, 17438: 7.129, 17496: 7.0618, 17882: 7.0321, 18785: 7.2586, 19179: 7.2615, 19882: 7.2308, 21395: 7.3079, 21992: 7.3565, 22595: 7.4967, 22895: 7.5596, 22968: 7.5444, 23093: 7.4208, 23261: 7.4208, 23549: 7.4754, 23955: 7.5221, 23971: 7.5711, 24142: 7.4825, 24419: 7.5407, 25878: 7.6986, 26052: 7.6065, 26166: 7.8246, 27257: 8.016, 27763: 7.7253, 27800: 7.8296, 28848: 7.7952, 29115: 7.8704, 29377: 7.913, 30148: 7.9239, 32302: 7.9921, 32470: 8.2451, 32850: 8.0975, 34446: 8.2376, 35766: 8.1863, 35826: 8.1721, 37357: 8.3488, 37550: 8.2838, 38535: 8.3321, 40032: 8.3743, 41122: 8.3917, 61060: 9.1576, 66990: 9.517, 68249: 9.4144, 74359: 9.5726, 88706: 9.8321, 91100: 9.8698, 152312: 10.73, 174998: 11.0485, 176401: 11.0485, 196095: 11.182}), topicDistribution=DenseVector([0.0401, 0.0402, 0.0212, 0.1836, 0.0305, 0.0099, 0.6346, 0.0123, 0.0161, 0.0114])),\n",
       " Row(CodNot=49002006, ComNot='   de maio sabado horas na sessao deste mes da mostra permanente cineclube francofono iniciativa da fundacao clovis salgado por meio do cine humberto mauro estara em cartaz o filme delegado levardin  do diretor frances claude chabrol no enredo as tramas de um assassino sao investigadas por um astucioso delegado a sessao sera comentada pelo pesquisador e critico roberto cotta a narrativa delegado levardin traca a historia de raul mons escritor catolico muito famoso que leva uma vida pacata com a mulher helena a filha adolescente veronique e o cunhado claude alvarez certo dia raul mons e encontrado morto assassinado numa praia totalmente nu com a palavraporcoescrita sobre sua nadega o delegado lavardin e enviado no local para fazer um inquerito sobre o crime as sessoes da mostra permanente cineclube francofono acontecem sempre no ultimo sabado do mes as h e contempla a producao cinematografica dos paises que falam a lingua francesa a programacao inclui uma diversidade de estilos e esteticas que compoem a filmografia desses paises com destaque para os grandes classicos foto divulgacao', edtNome='NOTICIAS', IDFfilteredTKComNot=SparseVector(262144, {3: 2.2352, 5: 1.2087, 43: 1.8218, 49: 1.9055, 50: 1.7994, 59: 1.9592, 109: 2.0883, 119: 4.5581, 121: 2.3618, 147: 4.7709, 179: 2.4578, 183: 2.4775, 201: 2.7911, 219: 2.8019, 224: 2.4553, 282: 2.8035, 310: 5.9787, 319: 3.0485, 369: 2.9407, 394: 3.0117, 432: 2.943, 594: 6.4637, 664: 3.3687, 665: 4.046, 725: 6.9826, 738: 3.5489, 807: 3.393, 832: 3.36, 887: 15.656, 899: 3.8127, 965: 3.8656, 1003: 3.73, 1109: 3.6528, 1210: 3.7874, 1257: 3.75, 1283: 4.1717, 1326: 3.7693, 1422: 3.9544, 1569: 3.9228, 1573: 3.9349, 1720: 3.9873, 1808: 4.2005, 1931: 4.4117, 2291: 4.6829, 2319: 4.6926, 2468: 4.9323, 2472: 8.9381, 2660: 4.5021, 2901: 9.4519, 2908: 4.8847, 3411: 4.9189, 3420: 4.9935, 3470: 4.9789, 3494: 4.7872, 3733: 4.8579, 4008: 4.978, 4195: 5.279, 4446: 5.2404, 4462: 5.3692, 4946: 5.1927, 4979: 5.2876, 5173: 5.3577, 5328: 5.3821, 5463: 5.3184, 5598: 5.9426, 6487: 5.531, 7133: 5.7691, 7434: 5.7384, 8705: 6.098, 9185: 6.1033, 11394: 6.4999, 11491: 6.5294, 11696: 6.6886, 12683: 6.5308, 12934: 6.6251, 14403: 6.8162, 15867: 6.9093, 20263: 7.201, 22272: 7.4109, 26059: 7.6769, 28610: 7.8862, 29501: 7.8652, 30642: 16.0807, 33932: 8.0717, 40549: 17.2123, 45514: 8.5953, 50433: 9.1767, 80412: 20.1668, 87547: 9.8321, 182571: 11.182, 198426: 0.0, 243147: 0.0}), topicDistribution=DenseVector([0.0865, 0.0309, 0.0543, 0.4045, 0.0397, 0.017, 0.2987, 0.032, 0.0245, 0.0119])),\n",
       " Row(CodNot=48848264, ComNot='   nos dois ultimos anos o stf cortou a quantidade de segurancas pessoais a disposicao dos ministros em sao paulo e no rio mas aumentou no parana informa felipe frazao no estadao atualmente oito segurancas trabalham em sao paulo e quatro no rio no parana onde mora o relator da lava jato edson fachin o supremo reforcou o numero de agentes duas vezes em julho do ano passado o efetivo passou de quatro para cinco homens no inicio do mes passado depois de o ministro se queixar de ameacas sofridas por sua familia a corte ampliou para sete a quantidade de segurancas a disposicao de fachin no estadoeconomize em suas compras usando cupons de desconto', edtNome='NOTICIAS', IDFfilteredTKComNot=SparseVector(262144, {1: 1.1602, 6: 1.3724, 19: 3.3303, 20: 1.5114, 38: 4.049, 54: 1.8112, 81: 2.0192, 102: 2.5353, 115: 4.391, 118: 4.2991, 119: 2.2791, 134: 2.1601, 145: 2.3827, 165: 2.2858, 223: 2.7593, 284: 2.6873, 290: 3.1308, 296: 2.6482, 356: 3.0566, 360: 2.8157, 459: 2.964, 494: 6.7348, 495: 3.2509, 529: 3.0333, 533: 3.0493, 583: 3.1968, 604: 3.3368, 641: 3.3699, 693: 3.6475, 750: 3.6721, 784: 3.6792, 785: 3.5884, 1017: 7.2396, 1178: 3.7303, 1385: 7.6037, 1493: 3.8263, 1597: 4.1071, 1738: 4.2399, 1767: 4.2552, 1768: 4.1065, 1822: 9.2083, 1892: 4.0918, 1958: 4.229, 2038: 4.3442, 2428: 4.436, 2523: 4.6287, 2545: 4.4356, 3275: 4.6784, 3399: 4.8349, 5283: 5.2578, 5844: 17.0179, 6248: 5.4631, 9874: 6.1858, 18091: 7.0526, 21506: 7.4931, 36932: 8.2227}), topicDistribution=DenseVector([0.1046, 0.0626, 0.031, 0.0465, 0.3435, 0.0694, 0.0643, 0.1532, 0.1037, 0.0211])),\n",
       " Row(CodNot=48807906, ComNot='   por stella calloni   os estados unidos e seus aliados preparam em silencio um plano brutal paraacabar com a ditadurana venezuela estegolpe de mestre masterstroke  ja em andamento teria uma primeira etapa posta em pratica antes das proximas eleicoes e se eles nao conseguirem expulsar o presidente nicolas maduro durante sua nova ofensiva acompanhada de todo o aparelho de propaganda e de midia alem de acoes violentaspara a defesa da democracia  o plano b esta pronto e ele engajara varios paises para impor umaforca multilateralde intervencao militar o panama a colombia o brasil e a guiana possuem um papel chave neste plano com o apoio da argentina e de outrosamigossob o controle do pentagono desde as bases a serem ocupadas passando pelos paises de fronteira que fornecerao um apoio direto inclusive com seus hospitais e reservas de viveres para os soldados tudo esta pronto tudo isto esta especificado em um documento de  paginas ainda nao divulgado que leva a assinatura do almirante kurt walter tidd atual comandante em chefe do southcom dos estados unidos o documento analisa a situacao atual e legitima uma guerra de contrainsurreicao contra a venezuela assim como o sistema perverso da guerra psicologica que permite compreender a persecucao o acossamento o aviltamento e a mentira usados para acabar nao somente com os dirigentes populares mas tambem com os povos enquanto tais o relatorio afirma que aditadura chavistana venezuela esta prestes a cair em funcao dos seus problemas internos a grave penuria de alimentos o esgotamento completo das rendas externas e a corrupcao desenfreada que teria ganhado o apoio internacional gracas aos petrodolares sem contar que o poder aquisitivo da moeda nacional esta em queda livre esta situacao eles admitem tela forjado artificialmente com uma impunidade chocante e consideram que ela nao mudara eles justificam suas acoes afirmando que o governo da venezuela tomara novas medidaspopulistaspara manterse no poder o tratamento reservado a oposicao manipulada aconselhada e paga pelos estados unidos nao deixa de surpreender pois lese no documento queo governo corrupto de maduro partira em derrocada mas infelizmente as forcas de oposicao que defendem a democracia e o nivel de vida da populacao nao tem a capacidade requerida para por um fim ao pesadelo venezuelanoem razao de suas disputas internas e deuma corrupcao semelhante aquela dos seus rivais ambos compartilham a mesma ausencia de raizese isso nao lhespermite tirar o melhor partido desta situacao e de tomar as decisoes necessarias para exagerar o estado de penuria e de precariedade na qual o grupo de pressao que exerce a ditadura de esquerda mergulhou o pais eles consideram ter de enfrentaruma acao criminosa sem precedentes na america latinae isso apesar de o governo da venezuela nao ter jamais agido contra os seus vizinhos manifestando sempre pelo contrario uma intensa solidariedade regional e mundial o plano dos estados unidos sustenta a tese de quea democracia se difunde na america continente onde o populismo radical parecia fadado a tomar seu controle  a argentina o equador e o brasil seriam exemplos desta teseeste renascimento da democracia se fundamenta em opcoes corajosas e as condicoes regionais sao favoraveis chegou o momento para os estados unidos de mostrar que estao engajados neste processo e a queda da ditadura venezuelana sera um marco em escala continental alem disso com a justificativa de quee a primeira ocasiao para a administracao trump de aplicar sua visao da democracia e da seguranca e de que e chegado o momento de agireles pressionam o presidente americano donald trump a entrar em acao convencendoo de que esta acao e crucial para o continente e para o mundo inteiro isto pressupoe nao somente a eliminacao definitiva do chavismo e a expulsao de seu representante como tambem trabalhar paraintensificar a insatisfacao popular favorecendo mais instabilidade e penuria a fim de tornar irreversivel o repudio ao ditador atual  se quisermos penetrar a arte da perversao contrainsurrecional e suficiente ler a parte deste documento que recomendaassediar sem descanso o presidente maduro ridicularizalo apresentandoo como um exemplo de inabilidade e de incompetencia um fantoche as ordens de cuba  e igualmente sugerido exacerbar as divisoes entre membros do grupo no poder ressaltando as diferencas de nivel de vida entre eles e seus dirigentes e cuidar para que as divergencias se acentuem a ideia consiste em fazer operacoes relampago no estilo de mauricio macri na argentina e de michel temer no brasil ao tomar medidas da precisao de um tiro de missel em algumas horas para a destruicao dos estados nacionais por sinal esses dois mordomos as ordens de washington sao personalidades corruptas mas que se tornaramvanguardas da transparencia pela graca imperial este documento assinado pelo chefe do southcom exige que o governo de maduro tornese insustentavel forcandoo assim a vacilar negociar ou fugir este plano que dentro em breve deveria eliminar a suposta ditadura na venezuela insta para quea instabilidade interna seja trazida a niveis criticos por meio da descapitalizacao do pais da fuga de capitais estrangeiros e da desvalorizacao brutal da moeda nacional pela aplicacao de novas medidas inflacionarias outro objetivofazer obstrucao a todas as importacoes e ao mesmo tempo desmotivar os eventuais investidores estrangeiros  para contribuira tornar a situacao ainda mais critica para a populacao  encontrase tambem neste plano apresentado em  paginas o chamado a aliados internos e a outras pessoas bem inseridas no panorama nacional com o objetivo de que possam engendrar manifestacoes disturbios e inseguranca saques roubos e atentados assim como apreensoes de navios e outros meios de transporte para perturbar a seguranca nacional nos paises limitrofes  convem tambem diz o documento quehaja vitimaspara poder assim acusar os governantesaumentando as dimensoes da crise humanitaria aos olhos do mundo inteiro  e necessario para isso manipular a mentira e falar de corrupcao generalizada dentre os dirigentes eassociar o governo ao narcotrafico para atingir sua imagem tanto no plano interno como junto da opiniao internacional  istosem esquecer de exaurir os membros do partido socialista unificado psuv difundir a discordia entre eles a fim de que eles rompam com grande estardalhaco suas ligacoes com o governo recusandose a aplicar as medidas e restricoes que pesam nao so sobre eles como sobre toda a populacao  a oposicao e tao fraca que e necessario criar friccoes entre o psuv e somos venezuela nao e so isso e precisoestruturar um plano para obter a desercao dos quadros mais capacitados de forma a privar o pais de todos os seus profissionais altamente qualificados isso agravara ainda mais a situacao interna e a responsabilidade sera imputada ao governo  ingerencia militar como em um romance de suspense o documento convida ausar oficiais do exercito como alternativa para uma solucao definitivae atornar ainda mais duras as condicoes no seio das forcas armadas a fim de preparar um golpe de estado antes do final de  caso esta crise nao seja suficiente para provocar a derrocada da ditadura ou se o ditador vier a se recusar a deixar seu lugar a outros considerando que tudo o que esta exposto anteriormente pode eventualmente nao render frutos com um desprezo gritante pela oposicao venezuelana o plano preconizaalimentar continuamente a tensao na fronteira com a colombia incitar o trafico de combustivel e outros bens promover iniciativas dos paramilitares com incursoes armadas e trafico de drogas para provocar incidentes armados com as forcas de seguranca da fronteira  sem contaro recrutamento de paramilitares principalmente nos campos de refugiados de cucuta de la guajira e do norte da provincia de santander vastas zonas ocupadas por cidadaos colombianos que haviam emigrado a venezuela e que agora retornam ao pais fugindo de um regime que aumentou a instabilidade nas fronteiras e aproveitandose do espaco vazio deixado pelas farc pela eln  sempre beligerante  e das atividades paramilitares na regiao do cartel do golfo   finalmente eis aqui a estruturacao do golpe final que sera proferidofavorecer a entrada em acao das forcas aliadas para apoiar os oficiais rebeldes do exercito ou para controlar a crise interna em caso da iniciativa ser retardada  impedir o ditador no curto prazo de continuar a ampliar sua base para controlar o tabuleiro interno se necessario agir antes das eleicoes previstas para o proximo mes de abril  na verdade essas eleicoes ocorrerao em maio e os estados unidos assim como os seus comparsas se recusam de antemao a reconhecer seu resultado o no da questao eobter o apoio e a cooperacao das autoridades aliadas de paises amigos brasil argentina colombia panama e guiana organizar a partir do panama o fornecimento das tropas o apoio logistico e medico fazer bom uso de tudo aquilo que proporciona a vigilancia eletronica e os sinais inteligentes dos hospitais e dos fundos enviados ao darien na floresta do panama aproveitarse do equipamento disponivel em drones do plano colombia assim como das areas das antigas bases militares de howard ou albrook panama e mesmo daquelas que pertencem ao rio hato lancar mao tambem do centro regional humanitario das nacoes unidas concebido para situacoes de catastrofe e de urgencia humanitaria e que contem uma pista de aterrissagem e suas proprias lojas  estamos diante da organizacao de uma intervencao que incluiestacionamento de avioes de combate e helicopteros de veiculos blindados de unidades de informacao e de unidades militares especiais para logistica policiais responsaveis militares e prisoes sera necessariorealizar a operacao militar sob uma bandeira internacional com o aval da conferencia dos exercitos latinoamericanos sob a protecao da oea e a supervisao no contexto legal e mediatico do secretariogeral da dita organizacao dos estados americanos luis almagro  convemdeclarar a necessidade para o comando continental de reforcar a acao servindose das ferramentas da democracia interamericana com o objetivo de evitar a ruptura democratica  sobretudo tratase dereunir brasil argentina colombia e panama para que eles contribuam com o reforco das tropas e facam uso de sua proximidade geografica e da sua experiencia em materia de operacoes em regioes densas e de floresta fechada o ambito internacional sera reforcado pela presenca de unidades de combate dos estados unidos e das nacoes mencionadas o todo sob o comando geral do estadomaior conjunto dirigido pelos estados unidos  e chocante observar a impunidade dentro da qual tudo isto se trama pelas costas dos povos em uma ilegalidade absoluta por outro lado tornamse enfim compreensiveis as recentes manobras militares dos estados unidos na fronteira entre o brasil e a venezuela brasil peru colombia no atlantico sul estados unidos chile inglaterra argentina no caso da argentina isso se faz sem a menor autorizacao do congresso nacional desde outubronovembro de  utilizar as facilidades do territorio do panama para a retaguarda e as capacidades da argentina para garantir a seguranca dos portos e as posicoes maritimas   propor ao brasil e a guiana de colocar ao nosso dispor sua situacao migratoria sobre a qual nos temos a intencao de agir na fronteira da guiana  coordenar o apoio a colombia ao brasil a guiana a aruba a curacao a trinidad e tobago e a outros estados frente ao afluxo de imigrantes da venezuela provocado pelos avancos da crise  prevese tambemfavorecer a participacao internacional a este esforco como parte da operacao multilateral com a contribuicao de estados organismos nao governamentais e de instituicoes internacionais e fornecer o que sera necessario em materia de logistica e de informacao sera necessario antecipar os acontecimentos particularmente sobre os pontos escolhidos em aruba puerto carreno inirida maicao barranquilla e sincelejo na colombia assim como em roraima manaus e boavista no brasil  eis como se desenha o mapa de uma guerra de intervencao anunciada informacao estrategica quanto a perspectiva estrategica sera necessariosufocar a simbolica chavista juntamente com sua representatividade e seu apoio popularmantendo simultaneamente o assedio ao ditadorcomo unico responsavel da crise na qual ele mergulhou a nacao  assim como aos seus mais proximos executantes aos quais se imputara a crise e a impossibilidade de sair dela em outro paragrafo fazse um apelo paraintensificar o descontentamento contra o regime de maduro  assinalar a incompetencia dos mecanismos de integracao instalados pelos regimes de cuba e da venezuela e mais particularmente da alba alianca bolivariana dos povos da nossa america e petrocaribe  no que tange a midia o plano desenhado pelos estados unidos exige que seja aumentada a difusao interna no pais das midias locais e estrangeiras de mensagens montadas e baseadas sobre testemunhos e publicacoes feitas no proprio pais lancando mao de todas as capacidades de disseminacao  o que inclui as redes sociais  de mensagensveiculando sobre todas as midias a necessidade de por fim a situacao porque ela e na essencia insustentavel  em um dos ultimos paragrafos do documento para obter o apoio internacional falase em assegurar ou mostrar o uso de meios violentos por parte da ditadura colocando em pratica todas as capacidades da guerra psicologica do exercito dos estados unidos  em outras palavras tratase de montar os mesmos cenarios a base de mentiras de falsas montagens de noticias de fotos e videos truncados tudo que foi posto em pratica durante as guerras coloniais do seculo  outro aspectoos estados unidos deverao apoiar os estados americanos que os apoiam no plano interno  melhorar sua imagem ea ordem multilateral de instituicoes do sistema interamericano como instrumentos indispensaveis para a solucao dos problemas regionais enfim promover a ideia do envio indispensavel de uma forca militar da onu para impor a paz uma vez que a ditadura corrupta de nicolas maduro tera sido varrida   cartel de drogas mexicano  jornalista e escritora argentina publicado orignialmente na rede voltaire traducao de sylvie giraud para brasileconomize em suas compras usando cupons de desconto', edtNome='NOTICIAS', IDFfilteredTKComNot=SparseVector(262144, {0: 4.1485, 2: 4.0043, 3: 6.7057, 8: 11.3806, 9: 2.875, 10: 15.0828, 12: 4.6202, 15: 9.4103, 17: 1.6353, 18: 2.7924, 20: 1.5114, 21: 4.9087, 22: 1.611, 27: 1.5969, 30: 5.1369, 31: 8.5939, 32: 3.2322, 33: 2.7359, 34: 3.2753, 37: 1.7535, 38: 2.0245, 41: 6.8305, 43: 3.6436, 44: 5.2167, 49: 1.9055, 50: 1.7994, 53: 3.4198, 54: 1.8112, 56: 3.61, 58: 1.9451, 60: 2.1153, 62: 1.8679, 64: 1.9913, 65: 1.9785, 68: 8.6878, 72: 4.2753, 73: 1.9676, 76: 3.9448, 77: 1.9754, 78: 2.1823, 79: 5.9697, 80: 2.1106, 82: 4.403, 83: 39.8982, 85: 6.0817, 91: 4.1318, 92: 2.0462, 95: 2.1118, 98: 11.3745, 99: 10.3877, 100: 4.256, 103: 4.1083, 106: 16.7982, 108: 8.4368, 109: 2.0883, 113: 2.2682, 114: 15.8, 119: 2.2791, 121: 4.7235, 123: 2.502, 124: 2.3924, 125: 4.8819, 129: 2.1889, 133: 4.8997, 137: 7.163, 142: 2.4798, 146: 8.9541, 148: 2.4711, 168: 2.8757, 169: 5.2018, 171: 10.0735, 172: 2.4018, 175: 2.3136, 179: 4.9156, 182: 2.5267, 183: 2.4775, 184: 19.6135, 186: 14.719, 190: 2.8993, 193: 4.7891, 196: 2.332, 209: 2.6448, 210: 10.1779, 214: 2.5064, 215: 2.5759, 216: 2.5743, 220: 2.8308, 221: 2.4742, 227: 2.7578, 228: 2.5384, 231: 4.8985, 232: 2.5099, 245: 2.5644, 246: 2.8502, 253: 2.7192, 258: 36.6833, 259: 2.6686, 262: 2.5464, 265: 2.5313, 269: 2.5578, 273: 16.4919, 277: 2.7829, 278: 2.6129, 281: 2.9351, 293: 2.6821, 294: 8.4789, 295: 6.3004, 296: 2.6482, 298: 5.4366, 304: 2.7338, 306: 2.716, 307: 2.7793, 309: 8.0489, 310: 11.9574, 323: 2.7062, 326: 8.6506, 330: 17.6496, 338: 6.1022, 342: 8.4173, 349: 2.929, 352: 7.4336, 354: 5.6972, 362: 5.7544, 366: 2.8053, 367: 9.3754, 372: 2.7753, 373: 2.7915, 378: 9.3233, 380: 2.8951, 381: 5.8237, 383: 2.9402, 400: 2.918, 411: 2.8679, 418: 2.8795, 423: 6.0207, 426: 2.998, 428: 6.023, 441: 3.0906, 444: 2.9166, 448: 3.0273, 449: 2.9634, 452: 25.5347, 456: 2.9263, 460: 5.9635, 461: 3.002, 463: 6.2405, 464: 3.1663, 466: 3.0936, 468: 2.9544, 470: 3.1659, 479: 2.9519, 483: 3.094, 502: 10.0512, 509: 9.1573, 511: 3.0467, 513: 3.0722, 516: 38.8504, 519: 3.1216, 538: 9.4282, 549: 3.0763, 559: 6.1662, 562: 6.5151, 565: 13.4978, 577: 3.3595, 579: 13.5613, 586: 6.3345, 589: 3.2716, 591: 3.1298, 607: 3.1337, 614: 3.1767, 616: 3.1448, 621: 3.2505, 624: 3.3728, 632: 3.2871, 635: 3.2116, 642: 6.6931, 647: 3.5525, 661: 3.5666, 663: 15.9437, 666: 3.279, 668: 3.4987, 677: 3.5928, 687: 3.2901, 696: 3.2438, 701: 3.202, 705: 3.4068, 707: 6.8774, 711: 3.3344, 717: 3.4546, 718: 3.3588, 726: 3.2894, 745: 3.3893, 749: 3.2788, 769: 7.1815, 772: 3.4802, 775: 7.44, 780: 3.34, 797: 15.0853, 800: 3.3156, 802: 3.5432, 807: 3.393, 808: 3.6558, 831: 3.3822, 840: 3.5984, 852: 35.1093, 870: 11.0447, 872: 7.2394, 884: 3.5319, 897: 11.0003, 904: 7.1721, 918: 3.5033, 943: 7.0979, 952: 3.5966, 954: 3.6251, 956: 3.5543, 978: 3.4693, 995: 3.5163, 996: 7.1713, 1004: 4.0947, 1032: 3.8193, 1036: 7.3734, 1037: 3.6869, 1047: 3.6103, 1051: 3.6806, 1061: 3.693, 1076: 7.3532, 1080: 3.6422, 1091: 3.6548, 1112: 48.7623, 1116: 3.6284, 1128: 12.0779, 1130: 3.7629, 1132: 8.0698, 1172: 3.663, 1174: 3.9594, 1190: 3.6657, 1195: 3.8394, 1215: 11.1827, 1216: 3.7148, 1222: 3.6679, 1226: 3.7562, 1228: 7.427, 1230: 3.7467, 1236: 3.7457, 1243: 3.7601, 1249: 7.7355, 1254: 7.6171, 1269: 3.7215, 1272: 3.892, 1287: 4.1414, 1299: 4.0813, 1304: 3.7257, 1323: 4.0562, 1344: 4.2396, 1348: 16.4975, 1352: 3.7774, 1375: 3.7846, 1394: 4.1386, 1395: 3.927, 1400: 4.0911, 1410: 4.0398, 1421: 3.8552, 1426: 4.0549, 1436: 3.9073, 1439: 3.8811, 1445: 3.9795, 1466: 7.7435, 1469: 7.7401, 1475: 3.8648, 1476: 8.4138, 1521: 4.2461, 1523: 11.874, 1525: 4.3093, 1550: 30.216, 1552: 3.9207, 1556: 3.9898, 1572: 4.0005, 1573: 3.9349, 1580: 4.279, 1584: 7.884, 1592: 8.7993, 1595: 4.0004, 1597: 4.1071, 1615: 3.9864, 1636: 3.9578, 1647: 4.2017, 1657: 3.9585, 1666: 4.1145, 1678: 4.0477, 1691: 8.5927, 1693: 4.139, 1696: 4.0502, 1704: 4.0712, 1720: 3.9873, 1742: 4.1551, 1760: 26.1004, 1767: 4.2552, 1768: 4.1065, 1784: 4.1495, 1815: 4.0408, 1828: 4.1001, 1836: 4.3111, 1853: 4.08, 1870: 4.1704, 1874: 4.2172, 1881: 8.2782, 1892: 4.0918, 1897: 8.2402, 1927: 4.5153, 1928: 4.1394, 1934: 4.155, 1938: 4.1382, 1942: 8.4315, 1954: 22.8317, 1960: 4.1376, 1967: 4.2089, 2033: 4.2178, 2058: 4.2132, 2065: 4.3844, 2069: 4.2432, 2070: 4.3445, 2075: 8.6006, 2097: 4.2334, 2109: 8.3644, 2111: 8.8136, 2129: 4.2292, 2134: 4.3947, 2143: 4.2763, 2146: 4.2286, 2166: 4.3992, 2193: 4.336, 2194: 4.3361, 2210: 4.4336, 2222: 8.772, 2230: 4.2904, 2245: 4.4976, 2246: 4.3478, 2255: 4.2806, 2293: 4.4461, 2298: 13.1908, 2301: 4.3404, 2303: 4.4609, 2310: 9.3304, 2312: 8.901, 2315: 4.457, 2338: 4.3386, 2349: 4.5084, 2371: 4.5601, 2380: 4.3482, 2398: 9.0746, 2408: 4.6743, 2416: 4.4435, 2427: 9.0458, 2434: 4.3681, 2450: 9.2464, 2459: 4.8976, 2530: 4.4625, 2534: 4.6684, 2556: 4.4549, 2587: 4.4119, 2591: 4.4514, 2594: 4.5498, 2606: 9.0356, 2609: 4.5046, 2614: 4.9354, 2619: 8.9802, 2626: 4.4541, 2655: 4.5356, 2670: 4.4741, 2682: 4.5134, 2684: 4.5347, 2717: 39.3425, 2760: 29.7431, 2763: 18.2258, 2781: 4.5149, 2806: 9.374, 2828: 4.7159, 2835: 4.745, 2844: 4.6786, 2867: 4.8755, 2877: 4.8706, 2916: 4.7599, 2936: 4.8582, 2941: 4.7641, 2944: 4.5564, 2993: 4.6946, 2997: 4.6948, 3014: 4.8902, 3035: 4.6004, 3039: 4.778, 3067: 4.8146, 3100: 9.2586, 3103: 4.759, 3118: 4.7161, 3140: 4.7459, 3143: 4.6188, 3192: 4.8833, 3206: 4.6799, 3237: 4.679, 3253: 9.43, 3257: 4.7183, 3272: 4.6963, 3317: 9.6753, 3329: 5.2344, 3355: 4.8549, 3362: 4.9116, 3368: 9.7583, 3383: 4.7172, 3391: 4.7837, 3402: 4.739, 3406: 5.1018, 3424: 4.8319, 3427: 4.8277, 3446: 4.886, 3450: 4.7588, 3456: 4.8183, 3458: 4.8447, 3472: 4.7908, 3489: 5.2763, 3490: 4.9362, 3519: 5.1827, 3559: 4.8346, 3562: 4.8165, 3595: 5.711, 3620: 5.0753, 3661: 5.0658, 3664: 5.0181, 3704: 9.9782, 3718: 5.4186, 3721: 4.8674, 3789: 5.1596, 3803: 4.9631, 3808: 4.9395, 3835: 4.9806, 3839: 5.2314, 3853: 5.0907, 3871: 9.8001, 3890: 9.8696, 3963: 5.0011, 3984: 10.4465, 4007: 4.9181, 4040: 4.9859, 4112: 5.1037, 4120: 5.2366, 4135: 4.9703, 4150: 5.1445, 4197: 4.9801, 4207: 5.0995, 4231: 10.3283, 4253: 5.025, 4256: 5.0193, 4297: 5.1222, 4309: 5.0539, 4357: 5.1044, 4405: 10.1641, 4417: 5.0272, 4437: 5.1459, 4444: 5.0956, 4493: 5.0592, 4507: 5.3632, 4544: 5.231, 4578: 5.2647, 4588: 5.0696, 4610: 10.2035, 4677: 5.161, 4693: 11.4195, 4695: 5.0878, 4709: 5.1548, 4712: 5.1527, 4730: 5.1849, 4763: 5.2959, 4772: 5.1683, 4791: 5.2336, 4847: 5.2137, 4872: 5.135, 4897: 16.1999, 4906: 5.3111, 4919: 5.2273, 4941: 5.2608, 4981: 5.4013, 5027: 5.2086, 5064: 5.3204, 5075: 5.3356, 5122: 10.4274, 5176: 5.2604, 5208: 5.2555, 5215: 5.2177, 5266: 5.2813, 5280: 5.249, 5283: 5.2578, 5292: 10.5895, 5317: 5.2604, 5342: 5.5477, 5371: 5.2747, 5387: 5.3156, 5434: 10.765, 5441: 5.367, 5478: 16.0795, 5502: 5.3261, 5626: 5.3556, 5684: 5.3594, 5714: 5.4218, 5753: 11.2405, 5776: 5.4505, 5803: 5.4711, 5893: 5.4598, 5898: 5.4168, 5903: 11.0701, 5905: 5.4922, 5976: 5.4017, 6026: 5.4464, 6030: 5.5141, 6069: 5.4797, 6070: 5.9003, 6081: 5.4561, 6136: 5.5351, 6182: 5.6369, 6189: 5.5975, 6216: 10.995, 6253: 5.5255, 6254: 5.9156, 6256: 5.572, 6313: 5.5216, 6384: 5.5606, 6397: 5.498, 6480: 11.4522, 6489: 11.4767, 6490: 5.59, 6502: 5.7923, 6524: 5.5462, 6639: 5.529, 6708: 5.6611, 6742: 5.686, 6757: 5.6142, 6807: 11.1917, 6816: 5.6849, 6876: 5.8214, 6894: 5.7602, 6916: 5.6629, 6936: 5.764, 6983: 11.6767, 6988: 5.6469, 6991: 5.6634, 7047: 5.7396, 7086: 11.7688, 7108: 5.66, 7168: 5.7347, 7197: 5.6831, 7203: 6.0927, 7352: 5.7471, 7407: 5.6814, 7432: 5.6925, 7501: 5.7128, 7513: 11.8078, 7524: 5.7146, 7594: 5.7527, 7909: 5.8866, 7926: 5.9054, 7931: 5.7988, 7994: 5.8201, 8029: 11.8181, 8069: 5.9134, 8147: 11.6794, 8157: 5.9208, 8218: 5.9502, 8277: 6.0059, 8308: 11.8298, 8311: 5.9032, 8320: 5.9253, 8485: 5.9253, 8525: 6.1131, 8547: 5.9179, 8566: 6.0744, 8572: 5.9054, 8586: 18.413, 8636: 6.0504, 8670: 6.2885, 8682: 5.912, 8791: 6.0222, 8855: 11.9861, 8916: 12.0674, 8935: 6.8327, 8952: 42.9767, 8963: 6.3003, 9057: 6.5912, 9130: 6.0067, 9137: 6.0471, 9223: 12.1401, 9230: 6.0156, 9238: 6.1544, 9343: 6.1819, 9374: 6.1867, 9519: 6.2537, 9686: 6.0581, 9703: 6.309, 9706: 6.5543, 10019: 6.4396, 10043: 6.1368, 10106: 6.1535, 10154: 6.1647, 10192: 6.3123, 10267: 6.3378, 10298: 6.4521, 10299: 6.1733, 10306: 6.2192, 10433: 6.5627, 10681: 6.7615, 10826: 6.4433, 10832: 6.2435, 10842: 6.2282, 10843: 6.3145, 10888: 6.3189, 10970: 6.2455, 11063: 6.2652, 11379: 6.3981, 11392: 6.4186, 11410: 6.415, 11481: 6.3134, 11589: 12.6466, 11639: 6.4029, 11665: 6.7112, 11695: 6.4521, 11763: 6.9014, 11815: 12.9735, 11952: 6.391, 11973: 6.4521, 11999: 6.6088, 12014: 6.4065, 12100: 6.4174, 12216: 6.4041, 12418: 6.4396, 12456: 6.5641, 12652: 6.4881, 12657: 6.7461, 12670: 6.5213, 12682: 6.6207, 12692: 12.9245, 12753: 6.6633, 12894: 6.6044, 12929: 6.6014, 13017: 6.5199, 13196: 6.5557, 13213: 6.6403, 13297: 6.5308, 13312: 6.5473, 13363: 19.99, 13435: 6.6665, 13549: 6.6775, 13582: 6.6117, 13635: 6.5912, 13704: 6.6222, 13731: 6.8994, 13795: 6.5884, 13903: 6.6387, 13983: 6.8722, 13996: 6.6448, 14260: 6.7293, 14526: 6.9967, 14529: 6.6775, 14952: 6.7211, 15051: 6.7858, 15105: 6.8126, 15145: 6.7529, 15153: 6.7684, 15355: 6.7736, 15423: 6.8108, 15504: 6.9093, 15787: 6.7929, 15809: 6.818, 15898: 6.8036, 16006: 7.0231, 16007: 6.8877, 16191: 6.8475, 16314: 6.8818, 16483: 6.8684, 16515: 7.2786, 16548: 6.8935, 16650: 7.2199, 16659: 6.9234, 16676: 7.0572, 16795: 7.0209, 16821: 6.9153, 16841: 6.8975, 16861: 7.1721, 17065: 7.0366, 17165: 6.9274, 17193: 6.9356, 17210: 21.6352, 17343: 6.9376, 17822: 6.9881, 17840: 6.9945, 17933: 7.7856, 18115: 35.7706, 18226: 7.1118, 18388: 7.1491, 18409: 14.2981, 18664: 7.4896, 18837: 7.0806, 18950: 7.1851, 18987: 7.1216, 19325: 7.3627, 19400: 14.278, 19576: 7.3019, 19588: 7.1669, 19631: 7.1799, 19849: 14.3755, 19983: 14.4671, 20070: 7.1851, 20109: 7.2064, 20592: 7.2643, 20791: 7.4011, 21533: 7.3319, 21807: 7.4044, 22024: 7.3441, 22558: 7.3946, 22653: 7.5407, 22912: 7.4208, 22950: 7.4478, 23130: 7.4076, 23535: 7.5985, 23909: 7.5332, 24164: 7.5039, 24396: 7.537, 24547: 7.5185, 24605: 7.5634, 25560: 7.575, 25944: 15.3029, 26089: 7.6267, 26253: 7.703, 26270: 7.7208, 26767: 7.6641, 27147: 7.7573, 27223: 7.7714, 27346: 7.9239, 27427: 8.2838, 27463: 7.7208, 28330: 7.7527, 28403: 7.8049, 28507: 7.7808, 29301: 7.9863, 29306: 7.8049, 30096: 7.9406, 30211: 7.8915, 30975: 16.275, 31586: 23.9764, 32272: 7.998, 34311: 8.1721, 34347: 8.2153, 34377: 8.4094, 34977: 8.1107, 35861: 8.1721, 36703: 8.6736, 36748: 8.2527, 37007: 8.2227, 37204: 8.3321, 37499: 8.2838, 37668: 10.2947, 37947: 8.2681, 37975: 8.3917, 38421: 8.3404, 38781: 8.3488, 38932: 8.3743, 39645: 8.3658, 40794: 8.4005, 44413: 8.5741, 45412: 8.7091, 46227: 8.6281, 46558: 8.8794, 47425: 8.6853, 48427: 8.7335, 48477: 8.7335, 49169: 8.8653, 50561: 9.0008, 51200: 8.8513, 53015: 8.8513, 53276: 18.2779, 53317: 8.8938, 53985: 8.9848, 58307: 9.3903, 58421: 9.1026, 58666: 9.2159, 59331: 9.1026, 59445: 9.1026, 65244: 9.2993, 65935: 9.2993, 67137: 9.4391, 68515: 9.7606, 69478: 9.4391, 73350: 9.517, 75370: 9.5444, 78348: 9.6314, 78721: 9.6016, 78833: 9.9091, 81245: 9.6622, 82044: 9.694, 88847: 9.9499, 91635: 9.8698, 93329: 9.9924, 93472: 9.9091, 93763: 9.9091, 95575: 10.0369, 97926: 10.1835, 100714: 10.0834, 104035: 10.0834, 109746: 10.2376, 113614: 10.3553, 115032: 10.3553, 118481: 10.3553, 121687: 10.4199, 128598: 10.4889, 131108: 10.4889, 136807: 10.563, 138056: 10.563, 154467: 10.8254, 163949: 10.8254, 165612: 10.9307, 173181: 10.9307, 174558: 10.9307, 177190: 11.0485, 177864: 11.0485, 186225: 11.3362, 203876: 11.3362, 207899: 11.3362, 221912: 11.3362, 222429: 0.0, 223037: 11.3362, 225851: 11.3362, 237255: 11.3362, 238844: 0.0, 250941: 0.0}), topicDistribution=DenseVector([0.2588, 0.2025, 0.1508, 0.123, 0.0202, 0.0203, 0.0253, 0.0217, 0.1708, 0.0066])),\n",
       " Row(CodNot=48784943, ComNot='   presa e torturada durante a ditadura militar  a presidente deposta pelo golpe de  dilma rousseff disse em sua conta no twitter que amidia que apoiou a derrubada do governo jango negou em  ter havido um golpe de estado segundo eles no brasil tb nao havia presos politicos muito menos torturados e mortos tenta agora usar o golpe de  do qual foi cumplice para encobrir o golpe de   escreveu dilma neste sabado  a postagem no twitter veio dois dias apos documentos do departamento de relacoes exteriores dos estados unidos apontarem que o general emilio medici presidente do pais de  a  autorizou a morte de pelo menos  pessoas por militares do centro de informacoes do exercito cie de acordo com as revelacoes o seu sucessor ernesto geisel tambem autorizou a continuacao dos homicidios de cidadaos consideradossubversivos perigosos  cada novo assassinato seria analisado e autorizado pelo general joao figueiredo indicado de geisel para o servico nacional de informacoes sni a revelacao foi feita pelo escritor doutor em relacoes internacionais e professor da fgv matias spektor  o grupo informa a geisel da execucao sumaria de  pessoas no cie durante o governo medici e pede autorizacao para continuar a politica de assassinatos no novo governo geisel explicita sua relutancia e pede tempo para pensar no dia seguinte geisel da luz verde a figueiredo para seguir com a politica mas impoe duas condicoes primeiroapenas subversivos perigososdeveriam ser executados segundo o cie nao mataria a esmo o palacio do planalto na figura de figueiredo teria de aprovar cada decisao caso a caso  disse spektor no facebook depois das revelacoes da cia a procuradoria federal dos direitos do cidadao e a camara criminal do ministerio publico federal emitiram nota cobrando acoes da justica para revisar a lei da anistiao ministerio publico federal desde  investiga e processa esses crimes em estrita observancia a essas normas entretanto em razao da decisao proferida pelo supremo tribunal federal em  no julgamento da arguicao de descumprimento de preceito fundamental  adpf no  que considerou valida a lei de anistia a luz do direito brasileiro o poder judiciario tem sido refratario as iniciativas de responsabilizacao criminal dos autores dessas graves violacoes aos direitos humanos  diz o texto  veja aqui economize em suas compras usando cupons de desconto', edtNome='NOTICIAS', IDFfilteredTKComNot=SparseVector(262144, {0: 0.8297, 4: 2.044, 5: 1.2087, 7: 2.7638, 8: 4.8774, 9: 1.4375, 10: 1.5083, 11: 6.1432, 12: 3.0801, 14: 1.353, 15: 1.5684, 16: 1.381, 17: 3.2705, 20: 1.5114, 24: 1.5871, 30: 3.4246, 31: 1.7188, 32: 3.2322, 34: 1.6377, 39: 3.7246, 60: 2.1153, 61: 2.1744, 65: 1.9785, 69: 1.9451, 70: 3.8286, 72: 2.1377, 74: 4.4112, 75: 4.0722, 77: 1.9754, 79: 1.9899, 81: 2.0192, 83: 2.2166, 87: 2.2794, 88: 4.4489, 89: 4.8837, 93: 4.1194, 105: 4.7687, 110: 4.4307, 113: 2.2682, 125: 2.4409, 129: 2.1889, 147: 2.3855, 149: 2.3594, 151: 2.5629, 171: 2.5184, 177: 2.566, 194: 2.5137, 210: 2.5445, 215: 2.5759, 244: 2.724, 258: 2.8218, 267: 2.8256, 289: 5.8712, 354: 2.8486, 356: 3.0566, 398: 3.1248, 421: 2.8702, 477: 3.2177, 500: 3.2552, 539: 3.0735, 579: 3.3903, 595: 3.3046, 613: 3.437, 719: 3.6159, 720: 3.3441, 726: 3.2894, 741: 3.5867, 817: 3.494, 821: 3.451, 831: 3.3822, 854: 3.6153, 862: 3.709, 909: 3.631, 915: 3.8613, 935: 7.2988, 1026: 3.7366, 1051: 3.6806, 1082: 3.5879, 1099: 3.7014, 1128: 4.026, 1139: 3.6634, 1158: 3.9012, 1178: 3.7303, 1179: 3.8522, 1183: 3.6706, 1271: 7.6535, 1278: 7.8468, 1316: 7.8288, 1321: 3.9967, 1380: 3.7972, 1451: 3.8949, 1507: 3.9325, 1508: 8.0782, 1597: 4.1071, 1620: 8.5369, 1644: 3.9697, 1693: 4.139, 1702: 4.2399, 1757: 8.799, 1767: 4.2552, 1784: 4.1495, 1892: 4.0918, 1986: 4.2053, 2025: 4.2043, 2128: 4.4926, 2135: 4.368, 2184: 4.3118, 2215: 4.5031, 2274: 4.3372, 2300: 4.5463, 2310: 18.6608, 2384: 4.9606, 2449: 4.5292, 2642: 4.4623, 2760: 4.9572, 2885: 9.1304, 3065: 4.7268, 3071: 4.6439, 3249: 4.887, 3301: 15.2906, 3352: 4.7539, 3394: 4.7719, 3424: 4.8319, 3614: 4.9911, 3676: 29.2951, 3778: 4.9649, 3956: 5.2255, 4137: 5.108, 4195: 5.279, 4975: 5.4128, 5061: 5.524, 5086: 5.42, 5105: 5.2351, 5180: 5.2199, 5283: 5.2578, 5476: 5.3148, 5658: 5.9479, 6007: 5.4907, 6967: 5.633, 7122: 5.7659, 7154: 5.7341, 7583: 5.9142, 7821: 5.8569, 8199: 5.8625, 8348: 6.001, 8511: 6.0513, 8575: 5.9358, 8611: 5.9046, 8944: 5.9388, 9123: 20.1484, 9205: 6.1051, 9620: 6.0997, 9992: 12.9605, 10131: 12.3949, 10693: 6.3233, 11188: 6.2445, 11218: 6.2778, 13818: 6.6297, 14262: 6.9967, 14968: 7.1118, 16268: 6.8994, 16298: 6.9667, 16412: 6.8684, 16610: 7.0231, 16833: 14.365, 18241: 7.0344, 18963: 7.1669, 22025: 7.3785, 22922: 7.4308, 25378: 7.5867, 25550: 7.6025, 30943: 7.9575, 32268: 7.998, 32473: 8.4932, 32583: 8.0342, 35011: 8.6736, 38163: 8.4094, 39199: 8.3573, 50743: 8.8239, 55315: 9.2778, 58879: 9.0849, 151518: 10.73, 211018: 11.182, 233143: 11.3362}), topicDistribution=DenseVector([0.0901, 0.1076, 0.0869, 0.0153, 0.0238, 0.0168, 0.0473, 0.5396, 0.0534, 0.0192])),\n",
       " Row(CodNot=48751545, ComNot='  quarta feirasolenidade de abertura da feira     pavilhao de eventos da a agrotur  quinta feiraabertura da feira as   show da orquestra de viola caipira de tapiratiba sob a regencia do maestro alexandre magri logo apos show com belmonte e amarai  sexta feiraabertura da feira as  inicio dos shows  dj sayeg wolf borges e banda banda jet set diogo e giovane abertura da feira as  inicio dos shows  dj mateus bertozzi biquini cavadao banda alice nao mora mais aqui abertura da feira as  inicio as  com show  talentos de muzambinho', edtNome='NOTÍCIA', IDFfilteredTKComNot=SparseVector(262144, {16: 1.381, 134: 6.4803, 215: 2.5759, 309: 2.683, 571: 3.089, 723: 10.0805, 763: 18.8188, 787: 3.3996, 865: 11.689, 882: 3.5029, 969: 3.6557, 987: 3.6218, 1160: 3.8085, 1651: 13.6377, 2235: 9.1419, 2428: 4.436, 3515: 4.9732, 4236: 5.3747, 4696: 11.1714, 4869: 5.4276, 5425: 5.9275, 5507: 5.6192, 6476: 5.6779, 6483: 6.0075, 7923: 5.938, 8390: 6.1743, 9529: 6.3278, 15442: 6.9214, 17571: 7.1695, 18302: 7.3319, 19765: 7.6473, 25849: 8.004, 32997: 8.1375, 37638: 8.474, 40638: 9.0675, 79482: 10.0369, 96281: 10.1835, 99474: 10.1322, 154984: 10.9307, 220183: 11.3362}), topicDistribution=DenseVector([0.0478, 0.1484, 0.0743, 0.2139, 0.0443, 0.024, 0.2746, 0.0275, 0.0225, 0.1227])),\n",
       " Row(CodNot=48792834, ComNot=' bandeira dos estados unidos e vista antes da inauguracao da embaixada americana em jerusalem   jack guezafp a delegacao presidencial dos estados unidos que inclui a filha e assessora do presidente ivanka trump e seu marido e tambem assessor presidencial jared kushner chegou neste domingo a israel para participar amanha da inauguracao da embaixada americana em jerusalem o embaixador dos estados unidos no pais david friedman que defende a mudanca de tel aviv para a cidade sagrada ao assegurar que tal decisao ajudara a promover a paz recebeu a delegacao liderada pelo subsecretario de estado john sullivan que tambem inclui o secretario do tesouro steve mnuchin no aeroporto bengurion pouco depois do meiodia local h em brasilia veja tambemmundotel aviv sera destruida se israel agir estupidamente diz clerigo do iraquery_builder  maio   hmundosauditas se alinham a israel e apoiam trump na quebra de pacto com o iraquery_builder  maio   h a cerimonia esta prevista para amanha as h h em brasilia no local que ate agora funcionava como secao de vistos do consulado geral dos eua no bairro de arnona em jerusalem ocidental e que se transformara na nova sede da representacao diplomatica americana os estados unidos serao o primeiro pais a estabelecer sua embaixada em jerusalem desde  depois que paises da america central retiraram suas representacoes em resposta as solicitacao da comunidade internacional movimento que passou a ocorrer depois que israel anexou em seus estatutos internos em  a parte oriental da cidade que ate  era parte da jordania  ao anexar a cidade os israelenses nomearam toda a cidade como sua capital eterna e indivisivel pedestres observam passagem de motociclistas nas ruas de jerusalem com bandeiras antes da inauguracao da embaixada americana  pedestres observam passagem de motociclistas nas ruas de jerusalem com bandeiras antes da inauguracao da embaixada americana   ammar awadreuters esta semana seremos abencoados com um evento verdadeiramente historico que e a decisao da maior potencia do mundo nosso amigo estados unidos de mudar sua embaixada para ca jerusalem declarou hoje o primeiroministro israelense benjamin netanyahu na reuniao de seu gabinete de governo na quartafeira  a guatemala tambem transferira sua embaixada para jerusalem em outra cerimonia que contara com a presenca de seu presidente jimmy morales ja o paraguai fara o mesmo antes do fim do mes num evento que tambem contara com a presenca de seu chefe de estado horacio cartes bandeiras israelenses e americanas estao hasteadas ha dias nas avenidas de jerusalem e os perfis da embaixada nas redes sociais ja mudaram sua descricao de tel aviv para a cidade sagrada palestinos e grupos de israelenses pacifistas convocaram protestos para amanha em jerusalem e a grande marcha do retorno de gaza que vem acontecendo desde  de marco na fronteira com israel preve uma grande manifestacao para denunciar a mudanca da embaixada americana com efe ', edtNome='MUNDO', IDFfilteredTKComNot=SparseVector(262144, {0: 3.3188, 8: 1.6258, 9: 2.875, 12: 3.0801, 15: 3.1368, 24: 1.5871, 34: 3.2753, 37: 3.507, 44: 3.4778, 46: 1.8149, 47: 1.8423, 49: 3.811, 55: 10.0015, 59: 3.9183, 60: 2.1153, 63: 1.9649, 66: 1.9401, 74: 4.4112, 77: 1.9754, 79: 1.9899, 80: 2.1106, 82: 2.2015, 83: 11.0828, 85: 8.109, 99: 2.0775, 101: 2.031, 119: 2.2791, 138: 5.0962, 139: 2.3793, 158: 2.3386, 182: 2.5267, 203: 2.6595, 213: 2.4745, 221: 2.4742, 237: 2.501, 239: 2.5426, 254: 2.7136, 255: 5.2952, 257: 2.7076, 258: 14.1089, 262: 2.5464, 264: 2.8109, 273: 2.7487, 306: 2.716, 307: 2.7793, 310: 2.9893, 352: 7.4336, 359: 3.005, 360: 2.8157, 419: 2.8915, 426: 2.998, 446: 3.4599, 482: 3.0868, 539: 3.0735, 542: 6.3771, 549: 6.1526, 596: 3.3179, 602: 3.1616, 631: 3.3873, 643: 3.1889, 714: 3.2755, 849: 7.1162, 897: 3.6668, 926: 3.6552, 942: 3.9934, 943: 3.5489, 947: 3.7712, 965: 3.8656, 991: 3.5382, 1031: 3.6198, 1033: 23.7351, 1193: 3.7295, 1196: 23.4281, 1228: 3.7135, 1246: 3.7697, 1279: 7.6499, 1299: 4.0813, 1319: 11.505, 1332: 3.8639, 1343: 3.937, 1366: 3.8528, 1481: 3.8518, 1623: 4.0256, 1626: 3.9607, 1659: 3.9662, 1720: 7.9745, 1732: 4.1682, 1755: 8.5224, 1786: 8.3054, 1846: 4.349, 1884: 4.5158, 1954: 4.5663, 2325: 4.5356, 2408: 4.6743, 2490: 5.5432, 2513: 5.6126, 2548: 8.8545, 2690: 4.5862, 2699: 55.8044, 2774: 4.5064, 2858: 47.0091, 2947: 4.7509, 3092: 4.8262, 3119: 4.6383, 3189: 4.7053, 3211: 4.8267, 3232: 5.092, 3237: 4.679, 3324: 4.7789, 3325: 5.0418, 3421: 19.7637, 3502: 5.0814, 3655: 5.0804, 3658: 16.8085, 3802: 5.053, 3852: 5.0041, 3871: 4.9, 3932: 5.5206, 4231: 5.1641, 4293: 5.1683, 4556: 5.3943, 4674: 10.5317, 4751: 5.1999, 4911: 10.7205, 5035: 11.1556, 5187: 15.9796, 5343: 5.5964, 5355: 5.4128, 5367: 5.42, 5662: 5.343, 6022: 5.5757, 6053: 5.6153, 6888: 5.7826, 7108: 5.66, 7190: 6.2673, 7323: 5.6943, 8045: 5.9509, 8110: 6.1077, 8259: 12.2589, 8342: 6.0462, 8559: 5.8923, 8894: 6.2928, 9108: 6.0205, 9163: 6.4509, 9516: 19.0001, 10097: 6.2694, 10108: 6.4113, 10111: 6.2971, 10405: 6.179, 11724: 6.4546, 11775: 6.3722, 12358: 6.5376, 12912: 6.4933, 13404: 6.5473, 13944: 7.0076, 13992: 7.6726, 14230: 6.758, 14365: 6.7598, 14856: 7.0782, 15146: 13.669, 15458: 7.1825, 16132: 6.9254, 16296: 7.1142, 18978: 7.2961, 19415: 14.283, 19582: 7.5295, 20822: 7.253, 20839: 7.2615, 22094: 7.6185, 22149: 7.6812, 27516: 7.748, 28630: 7.8296, 29498: 8.0342, 29809: 7.8346, 35600: 8.2759, 52868: 9.0171, 59060: 9.2567, 60423: 9.3213, 63145: 9.2361, 76826: 9.5726, 88873: 9.8321, 89236: 10.1835, 109863: 10.3553, 114974: 10.2947, 115544: 10.2947, 166362: 22.097, 168949: 10.9307, 195912: 11.182}), topicDistribution=DenseVector([0.0403, 0.7723, 0.0242, 0.0191, 0.0091, 0.0166, 0.0616, 0.0143, 0.0202, 0.0222])),\n",
       " Row(CodNot=48897393, ComNot=' carlos henrique passos presidente do sindusconba embarcou para florianopolis onde participa da a edicao do encontro nacional da industria da construcao enic que vai de hoje a sabado ele diz que o evento e top para a discussao dos rumos da construcao  a associacao brasileira de juristas pela democracia abjdba realiza sabado h na faculdade de direito da ufba a mesa tematica em defesa das garantias juridicas e dos direitos fundamentais na mesa as professoras marilia muricy carol proner e daniela portugal e os professores julio sa rocha e carlos eduardo freitas  rafael diazbalart vicepresidente da american association of port authorities  aapa para america latina vai dar palestra amanha h na codeba sobre inovocao portuaria nas cidades sustentaveis vem a convite da codeba e da antaq  a fundacao joao fernandes da cunha vai comemorar os seus  anos de fundacao segunda h com a palestra o leigo cristao e o dialogo com a cultura do professor jose antonio saja', edtNome='POLÍTICA', IDFfilteredTKComNot=SparseVector(262144, {1: 1.1602, 3: 1.1176, 12: 1.5401, 25: 4.9789, 31: 1.7188, 46: 1.8149, 54: 1.8112, 60: 2.1153, 138: 2.5481, 142: 2.4798, 147: 4.7709, 150: 2.4417, 161: 2.376, 174: 2.427, 177: 2.566, 191: 3.9399, 213: 2.4745, 267: 2.8256, 274: 2.7974, 286: 2.6181, 289: 2.9356, 305: 5.6115, 389: 2.9568, 390: 3.0131, 431: 3.0736, 480: 3.1372, 515: 3.2084, 550: 6.5681, 555: 3.423, 590: 3.4578, 613: 3.437, 812: 3.534, 847: 3.8003, 897: 3.6668, 1003: 7.4601, 1077: 3.6933, 1296: 4.0051, 1319: 3.835, 1357: 3.952, 1414: 4.099, 1431: 8.0172, 1594: 4.0318, 1760: 4.3501, 1964: 8.9577, 2027: 4.4013, 2081: 4.179, 2138: 4.4015, 2189: 4.5008, 2203: 4.5049, 2324: 4.634, 2392: 4.8131, 2620: 4.6595, 2839: 4.6393, 2902: 4.7518, 3185: 4.7489, 3207: 4.6994, 3328: 4.7514, 3783: 4.8889, 4306: 5.1083, 4346: 5.279, 4585: 5.4133, 4644: 5.652, 4892: 5.2243, 5456: 5.3688, 5556: 5.5905, 6762: 5.8015, 7897: 5.8275, 8374: 6.0148, 8790: 6.2746, 11285: 6.4686, 11832: 6.4841, 13276: 6.6525, 13934: 6.7277, 15942: 6.9752, 16236: 6.8551, 18707: 7.465, 19677: 7.4615, 25972: 7.9239, 30204: 8.6171, 37103: 8.383, 54718: 9.517, 63198: 9.3437, 74609: 9.8321, 78407: 19.7397, 158458: 11.0485, 197372: 11.182}), topicDistribution=DenseVector([0.248, 0.0846, 0.096, 0.0344, 0.1156, 0.1656, 0.051, 0.0355, 0.054, 0.1153])),\n",
       " Row(CodNot=48467541, ComNot=' confirmacao da vaga veio mesmo com derrota por  a  para a roma na capital italiana depois de mais de uma decada sem figurar em uma final de liga dos campeoes da europa o liverpool quinto clube que mais vezes venceu o torneio com cinco tacas enfim volta a uma decisao europeia a confirmacao da vaga veio mesmo com a derrota por  a  para a roma nesta quartafeira na capital italiana a ultima vez que a equipe havia disputado uma final da competicao foi na temporada  quando perdeu para o milan por  a  em atenas a classificacao marca tambem o retorno de um clube ingles a decisao na temporada  o chelsea enfrentou o bayern de munique na alemanha e ficou com o titulo apos abrir boa vantagem no jogo de ida contra a roma no qual venceu por  a  o liverpool conseguiu segurar os italianos nesta quarta e com a derrota por  a  garantiu a ida a kiev no dia  de maio para encarar o real madrid retrospecto o liverpool pode comemorar o retrospecto diante do gigante espanhol em decisoes de liga na final de  disputada em paris a unica entre eles os ingleses levantaram o trofeu depois de baterem o real por  a  folhapress', edtNome='ESPORTES', IDFfilteredTKComNot=SparseVector(262144, {0: 0.8297, 5: 1.2087, 13: 2.4649, 16: 1.381, 21: 1.6362, 22: 1.611, 49: 1.9055, 62: 1.8679, 74: 4.4112, 100: 6.3841, 101: 2.031, 122: 2.337, 158: 4.6771, 165: 2.2858, 199: 2.3526, 233: 2.5245, 238: 2.5471, 247: 3.0039, 284: 2.6873, 333: 6.0204, 337: 2.8443, 366: 2.8053, 401: 6.7305, 512: 3.0559, 619: 7.0856, 706: 3.5308, 735: 3.5171, 737: 7.3727, 776: 3.3216, 787: 3.3996, 830: 3.5814, 919: 7.7598, 1094: 3.6386, 1139: 7.3268, 1169: 3.9007, 1246: 3.7697, 1262: 3.7467, 1309: 3.9518, 1395: 3.927, 1480: 4.0148, 1532: 4.2956, 1570: 3.947, 1614: 4.2233, 1625: 4.3256, 1753: 4.1435, 1816: 8.327, 1901: 4.7528, 1969: 12.8079, 1995: 4.2153, 2211: 4.5169, 2346: 4.6273, 2486: 4.4104, 2565: 4.7177, 2584: 15.1016, 2880: 9.3065, 2882: 14.8937, 3783: 4.8889, 3918: 9.8313, 3994: 10.3082, 4380: 5.0992, 4390: 4.9737, 5122: 5.2137, 5212: 5.2502, 5914: 5.7897, 6099: 5.4272, 6173: 6.1015, 6521: 5.5647, 6689: 5.7742, 7113: 5.6651, 7139: 6.0181, 7166: 5.9216, 7206: 5.6458, 7419: 6.179, 8989: 6.4247, 12386: 6.5585, 15507: 13.6617, 17024: 6.9459, 18110: 7.1191, 20865: 7.3565, 24825: 7.7573, 49723: 8.7841}), topicDistribution=DenseVector([0.0163, 0.7981, 0.027, 0.0315, 0.0341, 0.0193, 0.0189, 0.0215, 0.0195, 0.0138])),\n",
       " Row(CodNot=49300009, ComNot=' divulgacao  globo maria a controversa e sofredora protagonista de onde nascem os fortes nao conquistou apenas um lugar privilegiado no coracao do publico mas rendeu a sua interprete alice wegmann um espcao no estrelado alto escalao de atores da globo com o sucesso da serie a globo planeja garantir alice no seu time de elenco fixo com contrato lugar destinado as estrelas de primeira grandeza da emissora segundo informa o agora s paulo alice wegmann estreou na globo em  na vigesima temporada demalhacao autor  fonte fama ao minuto', edtNome='ENTRETENIMENTO', IDFfilteredTKComNot=SparseVector(262144, {4: 1.022, 19: 1.6652, 39: 1.8623, 48: 1.7657, 54: 1.8112, 77: 1.9754, 91: 2.0659, 260: 3.0174, 280: 2.849, 383: 5.8803, 449: 2.9634, 451: 3.2275, 473: 2.9683, 544: 3.4493, 566: 3.1408, 619: 3.5428, 878: 3.5097, 1067: 3.7216, 1118: 15.512, 1178: 3.7303, 1210: 3.7874, 1464: 4.0462, 1642: 4.4816, 1936: 4.1588, 1998: 4.3755, 2929: 4.7908, 3027: 4.6113, 3138: 4.7079, 3281: 4.8618, 3499: 4.8407, 3669: 5.0747, 4359: 5.1249, 4949: 5.3019, 6112: 5.473, 6353: 5.6153, 6483: 18.0225, 6745: 5.5948, 6874: 5.5985, 8623: 5.938, 8908: 6.1553, 12289: 6.5376, 13268: 6.5927, 14553: 6.7047, 23628: 7.4615, 44078: 17.467, 56194: 9.1026, 86116: 9.8698}), topicDistribution=DenseVector([0.0412, 0.1099, 0.3661, 0.1526, 0.1181, 0.0394, 0.0807, 0.0327, 0.0356, 0.0236]))]"
      ]
     },
     "execution_count": 37,
     "metadata": {},
     "output_type": "execute_result"
    }
   ],
   "source": [
    "data_ldatopics_mapped.take(10)"
   ]
  },
  {
   "cell_type": "code",
   "execution_count": 34,
   "metadata": {},
   "outputs": [],
   "source": [
    "import numpy as np\n",
    "import pandas as pd"
   ]
  },
  {
   "cell_type": "code",
   "execution_count": 35,
   "metadata": {},
   "outputs": [],
   "source": [
    "data_td_as_arr = data_ldatopics_mapped.select('CodNot', 'topicDistribution')"
   ]
  },
  {
   "cell_type": "code",
   "execution_count": 38,
   "metadata": {},
   "outputs": [],
   "source": [
    "data_td_as_arr = data_td_as_arr.select('topicDistribution').rdd.map(lambda v: (v,)).toDF()"
   ]
  },
  {
   "cell_type": "code",
   "execution_count": 39,
   "metadata": {},
   "outputs": [
    {
     "name": "stdout",
     "output_type": "stream",
     "text": [
      "+----------------------+\n",
      "|topicDistributionArray|\n",
      "+----------------------+\n",
      "|  [[0.0100520314523...|\n",
      "+----------------------+\n",
      "only showing top 1 row\n",
      "\n"
     ]
    }
   ],
   "source": [
    "data_td_as_arr = data_td_as_arr.select(col('_1').alias('topicDistributionArray'))\n",
    "data_td_as_arr.show(1)"
   ]
  },
  {
   "cell_type": "code",
   "execution_count": 40,
   "metadata": {},
   "outputs": [],
   "source": [
    "df_topdist_pd = data_td_as_arr.toPandas()"
   ]
  },
  {
   "cell_type": "code",
   "execution_count": 42,
   "metadata": {},
   "outputs": [],
   "source": [
    "df_ldatopics_mapped_pd = data_ldatopics_mapped.select('CodNot').toPandas()"
   ]
  },
  {
   "cell_type": "code",
   "execution_count": 57,
   "metadata": {},
   "outputs": [
    {
     "name": "stdout",
     "output_type": "stream",
     "text": [
      "<class 'pandas.core.frame.DataFrame'>\n",
      "RangeIndex: 351910 entries, 0 to 351909\n",
      "Data columns (total 1 columns):\n",
      "topicDistributionArray    351910 non-null object\n",
      "dtypes: object(1)\n",
      "memory usage: 2.7+ MB\n"
     ]
    }
   ],
   "source": [
    "df_topdist_pd.info()"
   ]
  },
  {
   "cell_type": "code",
   "execution_count": 43,
   "metadata": {},
   "outputs": [],
   "source": [
    "s_topdist_pd = df_topdist_pd['topicDistributionArray'].apply(lambda x : np.array(x))"
   ]
  },
  {
   "cell_type": "code",
   "execution_count": 44,
   "metadata": {},
   "outputs": [],
   "source": [
    "s_topdist_pd_1d = s_topdist_pd.apply(lambda x : x[0].tolist())"
   ]
  },
  {
   "cell_type": "code",
   "execution_count": 46,
   "metadata": {},
   "outputs": [
    {
     "data": {
      "text/plain": [
       "40749"
      ]
     },
     "execution_count": 46,
     "metadata": {},
     "output_type": "execute_result"
    }
   ],
   "source": [
    "len(s_topdist_pd_1d)"
   ]
  },
  {
   "cell_type": "code",
   "execution_count": 49,
   "metadata": {},
   "outputs": [],
   "source": [
    "doc_topic_dist = np.array([dist for dist in s_topdist_pd_1d])"
   ]
  },
  {
   "cell_type": "code",
   "execution_count": 50,
   "metadata": {},
   "outputs": [
    {
     "data": {
      "text/plain": [
       "(40749, 10)"
      ]
     },
     "execution_count": 50,
     "metadata": {},
     "output_type": "execute_result"
    }
   ],
   "source": [
    "doc_topic_dist.shape"
   ]
  },
  {
   "cell_type": "code",
   "execution_count": 52,
   "metadata": {},
   "outputs": [
    {
     "data": {
      "text/plain": [
       "[0.010052030551846586,\n",
       " 0.5116306687664162,\n",
       " 0.01966189621965006,\n",
       " 0.06561168663255888,\n",
       " 0.008128692410695245,\n",
       " 0.0235805545580835,\n",
       " 0.322005697016139,\n",
       " 0.0135403822563051,\n",
       " 0.014270356240455495,\n",
       " 0.01151803534784975]"
      ]
     },
     "execution_count": 52,
     "metadata": {},
     "output_type": "execute_result"
    }
   ],
   "source": [
    "s_topdist_pd_1d[0]"
   ]
  },
  {
   "cell_type": "code",
   "execution_count": 54,
   "metadata": {},
   "outputs": [
    {
     "data": {
      "text/plain": [
       "0.010052030551846586"
      ]
     },
     "execution_count": 54,
     "metadata": {},
     "output_type": "execute_result"
    }
   ],
   "source": [
    "doc_topic_dist[0][0]"
   ]
  },
  {
   "cell_type": "code",
   "execution_count": 55,
   "metadata": {},
   "outputs": [],
   "source": [
    "def jensen_shannon(query, matrix):\n",
    "    \"\"\"\n",
    "    This function implements a Jensen-Shannon similarity\n",
    "    between the input query (an LDA topic distribution for a document)\n",
    "    and the entire corpus of topic distributions.\n",
    "    It returns an array of length M where M is the number of documents in the corpus\n",
    "    \"\"\"\n",
    "    # lets keep with the p,q notation above\n",
    "    p = query[None,:].T # take transpose\n",
    "    q = matrix.T # transpose matrix\n",
    "    m = 0.5*(p + q)\n",
    "    return np.sqrt(0.5*(entropy(p,m) + entropy(q,m)))"
   ]
  },
  {
   "cell_type": "code",
   "execution_count": 56,
   "metadata": {},
   "outputs": [],
   "source": [
    "def get_most_similar_documents(query,matrix,k=10):\n",
    "    \"\"\"\n",
    "    This function implements the Jensen-Shannon distance above\n",
    "    and retruns the top k indices of the smallest jensen shannon distances\n",
    "    \"\"\"\n",
    "    sims = jensen_shannon(query,matrix) # list of jensen shannon distances\n",
    "    return sims.argsort()[:k] # the top k positional index of the smallest Jensen Shannon distances"
   ]
  },
  {
   "cell_type": "code",
   "execution_count": 58,
   "metadata": {},
   "outputs": [],
   "source": [
    "test_ldatopics_mapped = distributed_lda_model.transform(test.select('CodNot', 'ComNot', 'edtNome', 'IDFfilteredTKComNot'))"
   ]
  },
  {
   "cell_type": "code",
   "execution_count": 59,
   "metadata": {},
   "outputs": [
    {
     "name": "stdout",
     "output_type": "stream",
     "text": [
      "+--------+--------------------+--------------+--------------------+--------------------+\n",
      "|  CodNot|              ComNot|       edtNome| IDFfilteredTKComNot|   topicDistribution|\n",
      "+--------+--------------------+--------------+--------------------+--------------------+\n",
      "|48409741|contestado pela m...|ESPAÇO PÚBLICO|(262144,[1,3,7,8,...|[0.17360439508453...|\n",
      "+--------+--------------------+--------------+--------------------+--------------------+\n",
      "only showing top 1 row\n",
      "\n"
     ]
    }
   ],
   "source": [
    "test_ldatopics_mapped.show(1)"
   ]
  },
  {
   "cell_type": "code",
   "execution_count": 60,
   "metadata": {},
   "outputs": [
    {
     "data": {
      "text/plain": [
       "(17089, 10)"
      ]
     },
     "execution_count": 60,
     "metadata": {},
     "output_type": "execute_result"
    }
   ],
   "source": [
    "test_td_as_arr = test_ldatopics_mapped.select('topicDistribution').rdd.map(lambda v: (v,)).toDF(['topicDistributionArray'])\n",
    "test_df_topdist_pd = test_td_as_arr.toPandas()\n",
    "test_s_topdist_pd = test_df_topdist_pd['topicDistributionArray'].apply(lambda x : np.array(x))\n",
    "test_s_topdist_pd_1d = test_s_topdist_pd.apply(lambda x : x[0].tolist())\n",
    "test_doc_topic_dist = np.array([dist for dist in test_s_topdist_pd_1d])\n",
    "test_doc_topic_dist.shape"
   ]
  },
  {
   "cell_type": "code",
   "execution_count": 61,
   "metadata": {},
   "outputs": [
    {
     "data": {
      "text/plain": [
       "array([0.17360453, 0.08760329, 0.04224785, 0.07922117, 0.03858348,\n",
       "       0.2096015 , 0.05179184, 0.03945537, 0.22744176, 0.05044919])"
      ]
     },
     "execution_count": 61,
     "metadata": {},
     "output_type": "execute_result"
    }
   ],
   "source": [
    "test_doc_topic_dist[0]"
   ]
  },
  {
   "cell_type": "code",
   "execution_count": 63,
   "metadata": {},
   "outputs": [],
   "source": [
    "from scipy.stats import entropy"
   ]
  },
  {
   "cell_type": "code",
   "execution_count": 64,
   "metadata": {},
   "outputs": [
    {
     "name": "stderr",
     "output_type": "stream",
     "text": [
      "/home/diegomarques/.local/lib/python3.6/site-packages/scipy/stats/_distn_infrastructure.py:2507: RuntimeWarning: invalid value encountered in true_divide\n",
      "  pk = 1.0*pk / np.sum(pk, axis=0)\n"
     ]
    }
   ],
   "source": [
    "most_sim_ids = get_most_similar_documents(test_doc_topic_dist[0],doc_topic_dist)"
   ]
  },
  {
   "cell_type": "code",
   "execution_count": 69,
   "metadata": {},
   "outputs": [],
   "source": [
    "most_similar_df = s_topdist_pd_1d[s_topdist_pd_1d.index.isin(most_sim_ids)]"
   ]
  },
  {
   "cell_type": "code",
   "execution_count": 70,
   "metadata": {},
   "outputs": [
    {
     "data": {
      "text/plain": [
       "2407     [0.15996437963495355, 0.12131099995005516, 0.0...\n",
       "6955     [0.15870438194950742, 0.05598691165747272, 0.0...\n",
       "11320    [0.19564898132386366, 0.133561075874659, 0.065...\n",
       "11861    [0.21346027032688789, 0.08515615970557563, 0.0...\n",
       "18074    [0.19581382248155207, 0.048506229101834476, 0....\n",
       "19931    [0.24564859569345351, 0.06647258757557879, 0.0...\n",
       "27795    [0.2017847572894229, 0.0729911738779661, 0.046...\n",
       "28082    [0.20267032437007843, 0.051720040300635865, 0....\n",
       "28336    [0.15400472240635604, 0.10532362971065377, 0.0...\n",
       "30707    [0.10974550599607732, 0.07713796187050347, 0.0...\n",
       "Name: topicDistributionArray, dtype: object"
      ]
     },
     "execution_count": 70,
     "metadata": {},
     "output_type": "execute_result"
    }
   ],
   "source": [
    "most_similar_df"
   ]
  },
  {
   "cell_type": "code",
   "execution_count": 80,
   "metadata": {},
   "outputs": [],
   "source": [
    "data_ldatopics_mapped_with_idx = data_ldatopics_mapped.select(\n",
    "    'CodNot', 'ComNot', 'edtNome').rdd.zipWithIndex().toDF(['conteudo'])\n",
    "data_ldatopics_mapped_with_idx = data_ldatopics_mapped_with_idx.select('conteudo', col('_2').alias('idx'))"
   ]
  },
  {
   "cell_type": "code",
   "execution_count": 82,
   "metadata": {},
   "outputs": [
    {
     "name": "stdout",
     "output_type": "stream",
     "text": [
      "+--------------------+---+\n",
      "|            conteudo|idx|\n",
      "+--------------------+---+\n",
      "|[48417179, dezena...|  0|\n",
      "+--------------------+---+\n",
      "only showing top 1 row\n",
      "\n"
     ]
    }
   ],
   "source": [
    "data_ldatopics_mapped_with_idx.show(1)"
   ]
  },
  {
   "cell_type": "code",
   "execution_count": 150,
   "metadata": {},
   "outputs": [
    {
     "data": {
      "text/plain": [
       "[2407, 6955, 11320, 11861, 18074, 19931, 27795, 28082, 28336, 30707]"
      ]
     },
     "execution_count": 150,
     "metadata": {},
     "output_type": "execute_result"
    }
   ],
   "source": [
    "most_sim_ids_arr = sorted(most_sim_ids.tolist())\n",
    "most_sim_ids_arr"
   ]
  },
  {
   "cell_type": "code",
   "execution_count": 151,
   "metadata": {},
   "outputs": [],
   "source": [
    "data_in_train_similar = data_ldatopics_mapped_with_idx.filter(col('idx').isin(most_sim_ids_arr) == True)"
   ]
  },
  {
   "cell_type": "code",
   "execution_count": 152,
   "metadata": {},
   "outputs": [
    {
     "name": "stdout",
     "output_type": "stream",
     "text": [
      "root\n",
      " |-- conteudo: struct (nullable = true)\n",
      " |    |-- CodNot: long (nullable = true)\n",
      " |    |-- ComNot: string (nullable = true)\n",
      " |    |-- edtNome: string (nullable = true)\n",
      " |-- idx: long (nullable = true)\n",
      " |-- CodNot: null (nullable = true)\n",
      " |-- ComNot: null (nullable = true)\n",
      " |-- edtNome: null (nullable = true)\n",
      "\n"
     ]
    }
   ],
   "source": [
    "row_to_CodNot = udf(lambda x: x[0])\n",
    "row_to_ComNot = udf(lambda x: x[1])\n",
    "row_to_edtNome = udf(lambda x: x[2])\n",
    "data_in_train_similar = data_in_train_similar.withColumn('CodNot', lit(None))\n",
    "data_in_train_similar = data_in_train_similar.withColumn('ComNot', lit(None))\n",
    "data_in_train_similar = data_in_train_similar.withColumn('edtNome', lit(None))\n",
    "data_in_train_similar.printSchema()"
   ]
  },
  {
   "cell_type": "code",
   "execution_count": 153,
   "metadata": {},
   "outputs": [
    {
     "name": "stdout",
     "output_type": "stream",
     "text": [
      "root\n",
      " |-- idx: long (nullable = true)\n",
      " |-- CodNot: string (nullable = true)\n",
      " |-- ComNot: string (nullable = true)\n",
      " |-- edtNome: string (nullable = true)\n",
      "\n"
     ]
    }
   ],
   "source": [
    "data_in_train_similar = data_in_train_similar.withColumn('CodNot', row_to_CodNot(test.conteudo))\n",
    "data_in_train_similar = data_in_train_similar.withColumn('ComNot', row_to_ComNot(test.conteudo))\n",
    "data_in_train_similar = data_in_train_similar.withColumn('edtNome', row_to_edtNome(test.conteudo))\n",
    "data_in_train_similar = data_in_train_similar.select('idx', 'CodNot', 'ComNot', 'edtNome')\n",
    "data_in_train_similar.printSchema()"
   ]
  },
  {
   "cell_type": "code",
   "execution_count": 135,
   "metadata": {},
   "outputs": [
    {
     "name": "stdout",
     "output_type": "stream",
     "text": [
      "To search\n"
     ]
    },
    {
     "data": {
      "text/plain": [
       "[Row(CodNot=48409741, ComNot='contestado pela maiorpartedos moto ristas sobretudo por conta do preco sdas tarifas o pedagio cobrado em trechos concessionados da regido dos cam pos gerais e revertido em mehorias e parte do dinheiro arrecadado e destinado excusi vamente para o servia de socorronumeros disponibilizados pela rodo norte comprovam a eficiencia do servi co de socorro nesses  anos de ativida des nas rr s i  e  e tia pr  as equipes da concessionaria atende ram mais de i milhdo de ocorrencias sendo mais de r mil veiculos atendidos ocorrencias mecanicas e mais de  mi situacoes de atendimento pre hospitalar iaph so no ano jxissado foram mais de  mi ocorrenciasatenddas nos ir quilometros cuidados pela companhia noparana alem do volume de ocorrencias atendidas nestes  anos outra marca ex pressiva esta na reducao de lo no indi ce de obitos e  no indice de veiculos se compararmos os anos de  ultimo ano sem o programa de concessoes no pa rana e o pedagio existe porque o htado nao tinha condicoesinanceirasde cuidar das estradas fm jj porexempo a situacao de estrutura no istado era terrivel havia muito buraco falta de acostamentos sina lizacao nao existia era uma armadilha em cada curva prejuizos com a perda cresceu te de vidase com escoamentodesafra cada vez mais comprometido as estradas esta vam amemaveis e nao havia perspectiva do governo federal em reverter o quadroa situacao exiqa uma solucao a privatizacao trouxe mcxertiizacao da maha viaria e com muito pro fissionalismo sava vidasa arrecadacao do peda gio e destinada a execucao dos servicos de atendimen to aos usuarios da rodovia como socorro mecanico pri metros socorros a acidenta dos inspecao de trafego con servacao e manutencao do pavimento sinalizacao ade quada seguranca progra ma de reducao de acidentes obras de ampliacao das ro dovias dispositivos de aces so e retorno passarelas pon tes marginais entre outros o dinheiro arrecadado tam hem e revertido aos munici pios do entorno da rodovia em forma do paqamemo do iss fmposto sobre servico no percentua de j sobre o aturamento mensada con cessao')]"
      ]
     },
     "execution_count": 135,
     "metadata": {},
     "output_type": "execute_result"
    }
   ],
   "source": [
    "print('To search')\n",
    "test_ldatopics_mapped.select('CodNot', 'ComNot').head(1)"
   ]
  },
  {
   "cell_type": "code",
   "execution_count": 155,
   "metadata": {},
   "outputs": [
    {
     "name": "stdout",
     "output_type": "stream",
     "text": [
      "Similar\n"
     ]
    },
    {
     "data": {
      "text/plain": [
       "[Row(CodNot='48874289', ComNot='a nova fase da atuacao das forcas de seguranca na regiao preve a retomada de areas que incluem as comunidade da vila kennedy e do batan a nota divugada pelo gabinete de intervencao federal informa que os projetos sociais ate entao conduzidos pelas upps serao mantidos pelo o batalhao da policia militar a partir desta quartafeira')]"
      ]
     },
     "execution_count": 155,
     "metadata": {},
     "output_type": "execute_result"
    }
   ],
   "source": [
    "print('Similar')\n",
    "data_in_train_similar.select('CodNot', 'ComNot').head(1)"
   ]
  },
  {
   "cell_type": "code",
   "execution_count": 158,
   "metadata": {},
   "outputs": [
    {
     "data": {
      "text/plain": [
       "Row(idx=6955, CodNot='49334974', ComNot='a feira de gado de caruaru no agreste de pernambuco que e realizada habitualmente as tercasfeiras das h as h esta acontecendo normalmente nesta tercafeira  apesar da greve dos caminhoneiros a feira que recebe milhares de pessoas durante a semana registra poucos comerciantes e compradores nesta terca matadouro de acordo com a secretaria de servicos publicos da cidade o matadouro publico tambem esta funcionando normalmente nesta tercafeira', edtNome='INTERIOR')"
      ]
     },
     "execution_count": 158,
     "metadata": {},
     "output_type": "execute_result"
    }
   ],
   "source": [
    "data_in_train_similar.filter(col('idx') == most_sim_ids_arr[1]).head()"
   ]
  },
  {
   "cell_type": "code",
   "execution_count": 142,
   "metadata": {},
   "outputs": [
    {
     "data": {
      "text/plain": [
       "10"
      ]
     },
     "execution_count": 142,
     "metadata": {},
     "output_type": "execute_result"
    }
   ],
   "source": [
    "data_in_train_similar.count()"
   ]
  },
  {
   "cell_type": "code",
   "execution_count": null,
   "metadata": {},
   "outputs": [],
   "source": [
    "#test_df_ldatopics_mapped_pd = test_ldatopics_mapped.select('CodNot').toPandas()"
   ]
  },
  {
   "cell_type": "code",
   "execution_count": null,
   "metadata": {},
   "outputs": [],
   "source": [
    "#ll = lda_model.logLikelihood(data)\n",
    "#print(\"The lower bound on the log likelihood of the entire corpus: \" + str(ll))"
   ]
  },
  {
   "cell_type": "code",
   "execution_count": null,
   "metadata": {},
   "outputs": [],
   "source": [
    "#lp = lda_model.logPerplexity(df_01_2017)\n",
    "#print(\"The upper bound on perplexity: \" + str(lp))"
   ]
  }
 ],
 "metadata": {
  "kernelspec": {
   "display_name": "Python 3",
   "language": "python",
   "name": "python3"
  },
  "language_info": {
   "codemirror_mode": {
    "name": "ipython",
    "version": 3
   },
   "file_extension": ".py",
   "mimetype": "text/x-python",
   "name": "python",
   "nbconvert_exporter": "python",
   "pygments_lexer": "ipython3",
   "version": "3.6.5"
  }
 },
 "nbformat": 4,
 "nbformat_minor": 2
}
